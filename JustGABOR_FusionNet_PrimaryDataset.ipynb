{
  "cells": [
    {
      "cell_type": "markdown",
      "metadata": {
        "id": "view-in-github",
        "colab_type": "text"
      },
      "source": [
        "<a href=\"https://colab.research.google.com/github/A-H-Sumon/Deep-Learning/blob/main/JustGABOR_FusionNet_PrimaryDataset.ipynb\" target=\"_parent\"><img src=\"https://colab.research.google.com/assets/colab-badge.svg\" alt=\"Open In Colab\"/></a>"
      ]
    },
    {
      "cell_type": "code",
      "execution_count": 1,
      "metadata": {
        "id": "95686169"
      },
      "outputs": [],
      "source": [
        "\n",
        "import numpy as np\n",
        "import tensorflow as tf\n",
        "from tensorflow.keras.preprocessing.image import ImageDataGenerator\n",
        "from joblib import Parallel, delayed\n",
        "import multiprocessing\n",
        "\n",
        "import os\n",
        "import cv2\n",
        "import numpy as np\n",
        "import pandas as pd\n",
        "from sklearn.model_selection import train_test_split\n",
        "from sklearn.preprocessing import StandardScaler, LabelEncoder\n",
        "from sklearn.metrics import classification_report, confusion_matrix\n",
        "from sklearn.neighbors import NearestNeighbors\n",
        "from tensorflow.keras.models import Sequential\n",
        "from tensorflow.keras.layers import Dense, Dropout\n",
        "from tensorflow.keras.utils import to_categorical\n",
        "from tensorflow.keras.preprocessing.image import ImageDataGenerator\n",
        "from skimage.feature import hog\n",
        "from skimage.filters import gabor\n",
        "from joblib import Parallel, delayed\n",
        "import multiprocessing\n",
        "from termcolor import colored\n",
        "\n",
        "from sklearn.model_selection import StratifiedKFold\n",
        "from sklearn.metrics import accuracy_score, classification_report, confusion_matrix\n",
        "from tensorflow.keras.callbacks import ReduceLROnPlateau\n",
        "from tensorflow.keras.models import Sequential\n",
        "from tensorflow.keras.layers import Dense, Dropout, BatchNormalization\n",
        "from tensorflow.keras.optimizers import Adam"
      ]
    },
    {
      "cell_type": "code",
      "source": [],
      "metadata": {
        "id": "-kr1iv78nqUM"
      },
      "execution_count": 1,
      "outputs": []
    },
    {
      "cell_type": "code",
      "source": [],
      "metadata": {
        "id": "VPga7XY3ISRm"
      },
      "execution_count": 1,
      "outputs": []
    },
    {
      "cell_type": "code",
      "execution_count": 2,
      "metadata": {
        "colab": {
          "base_uri": "https://localhost:8080/"
        },
        "id": "bea446c1",
        "outputId": "63b33ed2-c595-4b46-d748-82b5ee04bb9e"
      },
      "outputs": [
        {
          "output_type": "stream",
          "name": "stdout",
          "text": [
            "Mounted at /content/drive\n"
          ]
        }
      ],
      "source": [
        "from google.colab import drive\n",
        "drive.mount('/content/drive')\n"
      ]
    },
    {
      "cell_type": "code",
      "source": [
        "from sklearn.model_selection import train_test_split\n",
        "\n",
        "# Load dataset\n",
        "df = pd.read_csv(\"/content/drive/My Drive/dataset.csv\", dtype=str)  # Ensure paths are read as strings\n",
        "\n",
        "# Define features and labels\n",
        "X = df[\"image_path\"]  # Image paths\n",
        "y = df[\"label\"].astype(int)  # Labels as integers\n",
        "\n",
        "# Split into 80% training, 20% testing\n",
        "X_train, X_test, y_train, y_test = train_test_split(X, y, test_size=0.2, random_state=42, stratify=y, shuffle=True)\n",
        "\n",
        "# Create DataFrames\n",
        "train_df = pd.DataFrame({\"image_path\": X_train, \"label\": y_train})\n",
        "test_df = pd.DataFrame({\"image_path\": X_test, \"label\": y_test})\n",
        "\n",
        "\n"
      ],
      "metadata": {
        "id": "tVMbNwAdnSSr"
      },
      "execution_count": 3,
      "outputs": []
    },
    {
      "cell_type": "code",
      "source": [
        "print(df['label'].unique())  # Check unique labels in the dataset\n",
        "print(df['label'].nunique())  # Check the number of unique classes\n"
      ],
      "metadata": {
        "colab": {
          "base_uri": "https://localhost:8080/"
        },
        "id": "frWuQ6q11XVW",
        "outputId": "1faa049c-173f-4c6b-9a5c-374f7d6677ee"
      },
      "execution_count": 4,
      "outputs": [
        {
          "output_type": "stream",
          "name": "stdout",
          "text": [
            "['0' '1' '2' '3' '4' '5' '6' '7' '8' '9']\n",
            "10\n"
          ]
        }
      ]
    },
    {
      "cell_type": "code",
      "execution_count": 5,
      "metadata": {
        "colab": {
          "base_uri": "https://localhost:8080/"
        },
        "id": "4f8da4f0",
        "outputId": "1d52b68b-5e1c-4aa0-e69e-8f8642159701"
      },
      "outputs": [
        {
          "output_type": "stream",
          "name": "stdout",
          "text": [
            "Total training images: 1672\n",
            "Total testing images: 418\n"
          ]
        }
      ],
      "source": [
        "print(f\"Total training images: {len(train_df)}\")\n",
        "print(f\"Total testing images: {len(test_df)}\")"
      ]
    },
    {
      "cell_type": "code",
      "execution_count": 6,
      "metadata": {
        "id": "1c163614"
      },
      "outputs": [],
      "source": [
        "import cv2\n",
        "import numpy as np\n",
        "import cv2.ximgproc as xip\n",
        "\n",
        "def preprocess_image(file_path):\n",
        "    img = cv2.imread(file_path, cv2.IMREAD_GRAYSCALE)\n",
        "    if img is None:\n",
        "        return np.zeros((28, 28))  # Placeholder for missing images\n",
        "\n",
        "    # Apply Otsu's Thresholding\n",
        "    _, img = cv2.threshold(img, 0, 255, cv2.THRESH_BINARY + cv2.THRESH_OTSU)\n",
        "\n",
        "    # Resize image to 28x28\n",
        "    img = cv2.resize(img, (28, 28), interpolation=cv2.INTER_AREA) / 255.0\n",
        "\n",
        "    return img\n"
      ]
    },
    {
      "cell_type": "code",
      "source": [
        "# ======================== Load & Preprocess Images ========================\n",
        "train_images = np.array([preprocess_image(fp) for fp in train_df['image_path'].values])"
      ],
      "metadata": {
        "id": "M9io7DBwNbGK"
      },
      "execution_count": 7,
      "outputs": []
    },
    {
      "cell_type": "code",
      "execution_count": 8,
      "metadata": {
        "id": "0c9f1f30"
      },
      "outputs": [],
      "source": [
        "import cv2\n",
        "import numpy as np\n",
        "import multiprocessing\n",
        "from joblib import Parallel, delayed\n",
        "from tensorflow.keras.preprocessing.image import ImageDataGenerator\n",
        "import random\n",
        "\n",
        "def elastic_transform(image, alpha, sigma):\n",
        "    \"\"\"Applies elastic deformation to the image.\"\"\"\n",
        "    random_state = np.random.RandomState(None)\n",
        "\n",
        "    shape = image.shape\n",
        "    dx = cv2.GaussianBlur((random_state.rand(*shape) * 2 - 1), (5, 5), sigma) * alpha\n",
        "    dy = cv2.GaussianBlur((random_state.rand(*shape) * 2 - 1), (5, 5), sigma) * alpha\n",
        "\n",
        "    # Ensure the displacement maps are float32\n",
        "    x, y = np.meshgrid(np.arange(shape[1]), np.arange(shape[0]))\n",
        "    x_new = (x + dx).astype(np.float32)\n",
        "    y_new = (y + dy).astype(np.float32)\n",
        "\n",
        "    # Apply remap with correct dtype\n",
        "    distorted = cv2.remap(image, x_new, y_new, interpolation=cv2.INTER_LINEAR, borderMode=cv2.BORDER_REFLECT)\n",
        "\n",
        "    return distorted\n",
        "\n",
        "def augment_image(img):\n",
        "    rows, cols = img.shape\n",
        "\n",
        "    # Random Rotation\n",
        "    angle = random.uniform(-15, 15)\n",
        "    M = cv2.getRotationMatrix2D((cols / 2, rows / 2), angle, 1)\n",
        "    rotated = cv2.warpAffine(img, M, (cols, rows))\n",
        "\n",
        "    # Random Shifting\n",
        "    tx = random.uniform(-2, 2)\n",
        "    ty = random.uniform(-2, 2)\n",
        "    M_shift = np.float32([[1, 0, tx], [0, 1, ty]])\n",
        "    shifted = cv2.warpAffine(rotated, M_shift, (cols, rows))\n",
        "\n",
        "    return shifted\n",
        "\n",
        "def augment_dataset(train_images):\n",
        "    \"\"\"Applies augmentation to a dataset using parallel processing.\"\"\"\n",
        "    num_cores = multiprocessing.cpu_count()\n",
        "    augmented_images = Parallel(n_jobs=num_cores)(\n",
        "        delayed(augment_image)(img) for img in train_images\n",
        "    )\n",
        "    return np.array(augmented_images)\n",
        "\n",
        "# Apply augmentation to dataset\n",
        "augmented_images = augment_dataset(train_images)\n",
        "\n",
        "\n"
      ]
    },
    {
      "cell_type": "code",
      "source": [
        "cores = multiprocessing.cpu_count()\n",
        "print(cores)"
      ],
      "metadata": {
        "colab": {
          "base_uri": "https://localhost:8080/"
        },
        "id": "EVdthSUnGwyg",
        "outputId": "80127788-f9c6-4065-d22a-4dc9178e0559"
      },
      "execution_count": 9,
      "outputs": [
        {
          "output_type": "stream",
          "name": "stdout",
          "text": [
            "2\n"
          ]
        }
      ]
    },
    {
      "cell_type": "code",
      "source": [
        "\n",
        "\n",
        "!pip install mahotas\n"
      ],
      "metadata": {
        "colab": {
          "base_uri": "https://localhost:8080/"
        },
        "id": "r8zA8_UCPXMD",
        "outputId": "dc78d4f4-586a-4272-e206-ec515201ed30"
      },
      "execution_count": 10,
      "outputs": [
        {
          "output_type": "stream",
          "name": "stdout",
          "text": [
            "Collecting mahotas\n",
            "  Downloading mahotas-1.4.18-cp311-cp311-manylinux_2_17_x86_64.manylinux2014_x86_64.whl.metadata (14 kB)\n",
            "Requirement already satisfied: numpy in /usr/local/lib/python3.11/dist-packages (from mahotas) (2.0.2)\n",
            "Downloading mahotas-1.4.18-cp311-cp311-manylinux_2_17_x86_64.manylinux2014_x86_64.whl (5.8 MB)\n",
            "\u001b[?25l   \u001b[90m━━━━━━━━━━━━━━━━━━━━━━━━━━━━━━━━━━━━━━━━\u001b[0m \u001b[32m0.0/5.8 MB\u001b[0m \u001b[31m?\u001b[0m eta \u001b[36m-:--:--\u001b[0m\r\u001b[2K   \u001b[91m━━━━━━━━━━━━━━━━━━━━━━━━━━━━━━━━━━━━━\u001b[0m\u001b[90m╺\u001b[0m\u001b[90m━━\u001b[0m \u001b[32m5.4/5.8 MB\u001b[0m \u001b[31m162.2 MB/s\u001b[0m eta \u001b[36m0:00:01\u001b[0m\r\u001b[2K   \u001b[90m━━━━━━━━━━━━━━━━━━━━━━━━━━━━━━━━━━━━━━━━\u001b[0m \u001b[32m5.8/5.8 MB\u001b[0m \u001b[31m94.3 MB/s\u001b[0m eta \u001b[36m0:00:00\u001b[0m\n",
            "\u001b[?25hInstalling collected packages: mahotas\n",
            "Successfully installed mahotas-1.4.18\n"
          ]
        }
      ]
    },
    {
      "cell_type": "code",
      "execution_count": 11,
      "metadata": {
        "id": "9060b8d6"
      },
      "outputs": [],
      "source": [
        "from joblib import Parallel, delayed\n",
        "import numpy as np\n",
        "import multiprocessing\n",
        "from skimage.feature import hog, local_binary_pattern\n",
        "from skimage.filters import gabor\n",
        "from mahotas.features import zernike_moments\n",
        "\n",
        "# Feature Extraction\n",
        "def extract_features_single(img):\n",
        "     # Extract HOG features\n",
        "    # hog_features = hog(img, pixels_per_cell=(4, 4), cells_per_block=(2, 2), feature_vector=True)\n",
        "\n",
        "    # # # Extract Gabor features\n",
        "    gabor_response_real, gabor_response_imag = gabor(img, frequency=0.6)\n",
        "    gabor_features = np.mean(gabor_response_real) + np.mean(gabor_response_imag)\n",
        "\n",
        "    # Extract LBP features\n",
        "    # lbp = local_binary_pattern(img, P=8, R=1, method=\"uniform\")\n",
        "    # lbp_hist, _ = np.histogram(lbp.ravel(), bins=np.arange(0, 10), range=(0, 10))\n",
        "    # lbp_hist = lbp_hist.astype(\"float\")\n",
        "    # lbp_hist /= lbp_hist.sum()  # Normalize LBP histogram\n",
        "\n",
        "    return np.hstack([gabor_features])\n",
        "\n",
        "def extract_features(images):\n",
        "    num_cores = multiprocessing.cpu_count()\n",
        "    features = Parallel(n_jobs=num_cores)(delayed(extract_features_single)(img) for img in images)\n",
        "    return np.array(features)\n",
        "\n",
        "# Apply feature extraction\n",
        "augmented_features = extract_features(augmented_images)\n",
        "\n"
      ]
    },
    {
      "cell_type": "code",
      "execution_count": 12,
      "metadata": {
        "id": "5c02952b"
      },
      "outputs": [],
      "source": [
        "# ======================== Data Preparation ========================\n",
        "X_train_preprocessed = np.array([preprocess_image(fp) for fp in train_df['image_path']])\n",
        "X_test_preprocessed = np.array([preprocess_image(fp) for fp in test_df['image_path']])"
      ]
    },
    {
      "cell_type": "code",
      "source": [
        "# Apply augmentation\n",
        "X_train_augmented = augment_dataset(X_train_preprocessed)\n",
        "\n",
        "\n"
      ],
      "metadata": {
        "id": "nsq32NpNTfXP"
      },
      "execution_count": 13,
      "outputs": []
    },
    {
      "cell_type": "code",
      "source": [
        "# Extract features from augmented images\n",
        "X_train_features = extract_features(X_train_augmented)\n",
        "X_test_features = extract_features(X_test_preprocessed)  # No augmentation for test set"
      ],
      "metadata": {
        "id": "exrR8qUkTfZ7"
      },
      "execution_count": 14,
      "outputs": []
    },
    {
      "cell_type": "code",
      "execution_count": 15,
      "metadata": {
        "id": "77d5a6f4"
      },
      "outputs": [],
      "source": [
        "scaler = StandardScaler()\n",
        "X_train_features = scaler.fit_transform(X_train_features)\n",
        "X_test_features = scaler.transform(X_test_features)\n",
        "\n",
        "encoder = LabelEncoder()\n",
        "y_train = encoder.fit_transform(train_df['label'])\n",
        "y_test = encoder.fit_transform(test_df['label'])"
      ]
    },
    {
      "cell_type": "code",
      "execution_count": 16,
      "metadata": {
        "id": "1fd3216e",
        "colab": {
          "base_uri": "https://localhost:8080/"
        },
        "outputId": "d50b00d0-df49-4c7d-cd38-9d6c0c6bc23a"
      },
      "outputs": [
        {
          "output_type": "stream",
          "name": "stdout",
          "text": [
            "Collecting optuna\n",
            "  Downloading optuna-4.4.0-py3-none-any.whl.metadata (17 kB)\n",
            "Collecting alembic>=1.5.0 (from optuna)\n",
            "  Downloading alembic-1.16.4-py3-none-any.whl.metadata (7.3 kB)\n",
            "Collecting colorlog (from optuna)\n",
            "  Downloading colorlog-6.9.0-py3-none-any.whl.metadata (10 kB)\n",
            "Requirement already satisfied: numpy in /usr/local/lib/python3.11/dist-packages (from optuna) (2.0.2)\n",
            "Requirement already satisfied: packaging>=20.0 in /usr/local/lib/python3.11/dist-packages (from optuna) (24.2)\n",
            "Requirement already satisfied: sqlalchemy>=1.4.2 in /usr/local/lib/python3.11/dist-packages (from optuna) (2.0.41)\n",
            "Requirement already satisfied: tqdm in /usr/local/lib/python3.11/dist-packages (from optuna) (4.67.1)\n",
            "Requirement already satisfied: PyYAML in /usr/local/lib/python3.11/dist-packages (from optuna) (6.0.2)\n",
            "Requirement already satisfied: Mako in /usr/lib/python3/dist-packages (from alembic>=1.5.0->optuna) (1.1.3)\n",
            "Requirement already satisfied: typing-extensions>=4.12 in /usr/local/lib/python3.11/dist-packages (from alembic>=1.5.0->optuna) (4.14.1)\n",
            "Requirement already satisfied: greenlet>=1 in /usr/local/lib/python3.11/dist-packages (from sqlalchemy>=1.4.2->optuna) (3.2.3)\n",
            "Downloading optuna-4.4.0-py3-none-any.whl (395 kB)\n",
            "\u001b[2K   \u001b[90m━━━━━━━━━━━━━━━━━━━━━━━━━━━━━━━━━━━━━━━━\u001b[0m \u001b[32m395.9/395.9 kB\u001b[0m \u001b[31m20.9 MB/s\u001b[0m eta \u001b[36m0:00:00\u001b[0m\n",
            "\u001b[?25hDownloading alembic-1.16.4-py3-none-any.whl (247 kB)\n",
            "\u001b[2K   \u001b[90m━━━━━━━━━━━━━━━━━━━━━━━━━━━━━━━━━━━━━━━━\u001b[0m \u001b[32m247.0/247.0 kB\u001b[0m \u001b[31m14.6 MB/s\u001b[0m eta \u001b[36m0:00:00\u001b[0m\n",
            "\u001b[?25hDownloading colorlog-6.9.0-py3-none-any.whl (11 kB)\n",
            "Installing collected packages: colorlog, alembic, optuna\n",
            "Successfully installed alembic-1.16.4 colorlog-6.9.0 optuna-4.4.0\n"
          ]
        }
      ],
      "source": [
        "!pip install optuna\n",
        "\n"
      ]
    },
    {
      "cell_type": "code",
      "source": [
        "import cv2\n",
        "import numpy as np\n",
        "from glob import glob\n",
        "\n",
        "def load_images(image_paths):\n",
        "    data = []\n",
        "    for path in image_paths:\n",
        "        img = cv2.imread(path, cv2.IMREAD_GRAYSCALE)  # Read as grayscale\n",
        "        img = cv2.resize(img, (64, 64))  # Resize to a fixed size\n",
        "        img = img.flatten()  # Convert to 1D array\n",
        "        data.append(img)\n",
        "    return np.array(data)\n",
        "\n",
        "# Assuming X_train originally contains image file paths\n",
        "X_train = load_images(X_train)\n"
      ],
      "metadata": {
        "id": "GE7IHILLiyvx"
      },
      "execution_count": 17,
      "outputs": []
    },
    {
      "cell_type": "code",
      "source": [
        "import optuna\n",
        "from sklearn.neighbors import KNeighborsClassifier\n",
        "from sklearn.model_selection import cross_val_score\n",
        "\n",
        "def objective(trial):\n",
        "    \"\"\"Objective function for optimizing KNN hyperparameters.\"\"\"\n",
        "\n",
        "    # Hyperparameters to optimize\n",
        "    k = trial.suggest_int('n_neighbors', 3, 15)  # Number of neighbors\n",
        "    metric = trial.suggest_categorical('metric', ['euclidean', 'manhattan', 'minkowski'])\n",
        "    weights = trial.suggest_categorical('weights', ['uniform', 'distance'])\n",
        "\n",
        "    # Initialize KNN classifier\n",
        "    knn_model = KNeighborsClassifier(n_neighbors=k, metric=metric, weights=weights)\n",
        "\n",
        "    # Perform cross-validation to get accuracy\n",
        "    score = cross_val_score(knn_model, X_train, y_train, cv=5, scoring='accuracy').mean()\n",
        "\n",
        "    return score  # Return the mean cross-validation accuracy"
      ],
      "metadata": {
        "id": "lv5AK_wjiamz"
      },
      "execution_count": 18,
      "outputs": []
    },
    {
      "cell_type": "code",
      "source": [
        "study_knn = optuna.create_study(direction='maximize')  # Maximize accuracy\n",
        "study_knn.optimize(objective, n_trials=50)  # Run 50 trials\n",
        "\n",
        "# Get the best parameters\n",
        "best_knn_params = study_knn.best_params\n",
        "print(\"Best KNN hyperparameters:\", best_knn_params)"
      ],
      "metadata": {
        "id": "whSJfi1oV0vl",
        "colab": {
          "base_uri": "https://localhost:8080/"
        },
        "outputId": "4935274f-f98c-47fd-9274-93deb6579b18"
      },
      "execution_count": 19,
      "outputs": [
        {
          "output_type": "stream",
          "name": "stderr",
          "text": [
            "[I 2025-07-16 07:11:46,762] A new study created in memory with name: no-name-de4c9f47-c679-4433-b104-c424ad1fd543\n",
            "[I 2025-07-16 07:11:49,395] Trial 0 finished with value: 0.7721297703101261 and parameters: {'n_neighbors': 14, 'metric': 'minkowski', 'weights': 'uniform'}. Best is trial 0 with value: 0.7721297703101261.\n",
            "[I 2025-07-16 07:11:52,270] Trial 1 finished with value: 0.7942532844758243 and parameters: {'n_neighbors': 3, 'metric': 'euclidean', 'weights': 'distance'}. Best is trial 1 with value: 0.7942532844758243.\n",
            "[I 2025-07-16 07:11:54,128] Trial 2 finished with value: 0.7757225846813836 and parameters: {'n_neighbors': 11, 'metric': 'minkowski', 'weights': 'uniform'}. Best is trial 1 with value: 0.7942532844758243.\n",
            "[I 2025-07-16 07:12:10,375] Trial 3 finished with value: 0.7757154348020376 and parameters: {'n_neighbors': 4, 'metric': 'manhattan', 'weights': 'distance'}. Best is trial 1 with value: 0.7942532844758243.\n",
            "[I 2025-07-16 07:12:12,917] Trial 4 finished with value: 0.7781160067923854 and parameters: {'n_neighbors': 7, 'metric': 'minkowski', 'weights': 'uniform'}. Best is trial 1 with value: 0.7942532844758243.\n",
            "[I 2025-07-16 07:12:14,808] Trial 5 finished with value: 0.7703423004736795 and parameters: {'n_neighbors': 9, 'metric': 'minkowski', 'weights': 'uniform'}. Best is trial 1 with value: 0.7942532844758243.\n",
            "[I 2025-07-16 07:12:16,736] Trial 6 finished with value: 0.7846813835016535 and parameters: {'n_neighbors': 14, 'metric': 'euclidean', 'weights': 'distance'}. Best is trial 1 with value: 0.7942532844758243.\n",
            "[I 2025-07-16 07:12:20,357] Trial 7 finished with value: 0.7912628474394495 and parameters: {'n_neighbors': 8, 'metric': 'minkowski', 'weights': 'distance'}. Best is trial 1 with value: 0.7942532844758243.\n",
            "[I 2025-07-16 07:12:30,755] Trial 8 finished with value: 0.7589865046027346 and parameters: {'n_neighbors': 13, 'metric': 'manhattan', 'weights': 'uniform'}. Best is trial 1 with value: 0.7942532844758243.\n",
            "[I 2025-07-16 07:12:40,199] Trial 9 finished with value: 0.77572437215122 and parameters: {'n_neighbors': 10, 'metric': 'manhattan', 'weights': 'distance'}. Best is trial 1 with value: 0.7942532844758243.\n",
            "[I 2025-07-16 07:12:40,994] Trial 10 finished with value: 0.7942532844758243 and parameters: {'n_neighbors': 3, 'metric': 'euclidean', 'weights': 'distance'}. Best is trial 1 with value: 0.7942532844758243.\n",
            "[I 2025-07-16 07:12:41,785] Trial 11 finished with value: 0.7942532844758243 and parameters: {'n_neighbors': 3, 'metric': 'euclidean', 'weights': 'distance'}. Best is trial 1 with value: 0.7942532844758243.\n",
            "[I 2025-07-16 07:12:42,626] Trial 12 finished with value: 0.7936526946107785 and parameters: {'n_neighbors': 5, 'metric': 'euclidean', 'weights': 'distance'}. Best is trial 1 with value: 0.7942532844758243.\n",
            "[I 2025-07-16 07:12:43,514] Trial 13 finished with value: 0.794247922066315 and parameters: {'n_neighbors': 6, 'metric': 'euclidean', 'weights': 'distance'}. Best is trial 1 with value: 0.7942532844758243.\n",
            "[I 2025-07-16 07:12:44,356] Trial 14 finished with value: 0.7942532844758243 and parameters: {'n_neighbors': 3, 'metric': 'euclidean', 'weights': 'distance'}. Best is trial 1 with value: 0.7942532844758243.\n",
            "[I 2025-07-16 07:12:45,201] Trial 15 finished with value: 0.7936526946107785 and parameters: {'n_neighbors': 5, 'metric': 'euclidean', 'weights': 'distance'}. Best is trial 1 with value: 0.7942532844758243.\n",
            "[I 2025-07-16 07:12:46,043] Trial 16 finished with value: 0.7942532844758243 and parameters: {'n_neighbors': 3, 'metric': 'euclidean', 'weights': 'distance'}. Best is trial 1 with value: 0.7942532844758243.\n",
            "[I 2025-07-16 07:12:47,649] Trial 17 finished with value: 0.794247922066315 and parameters: {'n_neighbors': 6, 'metric': 'euclidean', 'weights': 'distance'}. Best is trial 1 with value: 0.7942532844758243.\n",
            "[I 2025-07-16 07:12:49,445] Trial 18 finished with value: 0.7936526946107785 and parameters: {'n_neighbors': 5, 'metric': 'euclidean', 'weights': 'distance'}. Best is trial 1 with value: 0.7942532844758243.\n",
            "[I 2025-07-16 07:12:51,015] Trial 19 finished with value: 0.7924604522298687 and parameters: {'n_neighbors': 7, 'metric': 'euclidean', 'weights': 'distance'}. Best is trial 1 with value: 0.7942532844758243.\n",
            "[I 2025-07-16 07:12:59,966] Trial 20 finished with value: 0.7721297703101261 and parameters: {'n_neighbors': 12, 'metric': 'manhattan', 'weights': 'distance'}. Best is trial 1 with value: 0.7942532844758243.\n",
            "[I 2025-07-16 07:13:00,798] Trial 21 finished with value: 0.7942532844758243 and parameters: {'n_neighbors': 3, 'metric': 'euclidean', 'weights': 'distance'}. Best is trial 1 with value: 0.7942532844758243.\n",
            "[I 2025-07-16 07:13:02,205] Trial 22 finished with value: 0.7924533023505228 and parameters: {'n_neighbors': 4, 'metric': 'euclidean', 'weights': 'distance'}. Best is trial 1 with value: 0.7942532844758243.\n",
            "[I 2025-07-16 07:13:03,787] Trial 23 finished with value: 0.7924533023505228 and parameters: {'n_neighbors': 4, 'metric': 'euclidean', 'weights': 'distance'}. Best is trial 1 with value: 0.7942532844758243.\n",
            "[I 2025-07-16 07:13:05,486] Trial 24 finished with value: 0.7942532844758243 and parameters: {'n_neighbors': 3, 'metric': 'euclidean', 'weights': 'distance'}. Best is trial 1 with value: 0.7942532844758243.\n",
            "[I 2025-07-16 07:13:06,654] Trial 25 finished with value: 0.794247922066315 and parameters: {'n_neighbors': 6, 'metric': 'euclidean', 'weights': 'distance'}. Best is trial 1 with value: 0.7942532844758243.\n",
            "[I 2025-07-16 07:13:07,595] Trial 26 finished with value: 0.7739333273751006 and parameters: {'n_neighbors': 4, 'metric': 'euclidean', 'weights': 'uniform'}. Best is trial 1 with value: 0.7942532844758243.\n",
            "[I 2025-07-16 07:13:08,384] Trial 27 finished with value: 0.7912628474394495 and parameters: {'n_neighbors': 8, 'metric': 'euclidean', 'weights': 'distance'}. Best is trial 1 with value: 0.7942532844758243.\n",
            "[I 2025-07-16 07:13:09,204] Trial 28 finished with value: 0.7936526946107785 and parameters: {'n_neighbors': 5, 'metric': 'euclidean', 'weights': 'distance'}. Best is trial 1 with value: 0.7942532844758243.\n",
            "[I 2025-07-16 07:13:18,514] Trial 29 finished with value: 0.7535883456966663 and parameters: {'n_neighbors': 3, 'metric': 'manhattan', 'weights': 'uniform'}. Best is trial 1 with value: 0.7942532844758243.\n",
            "[I 2025-07-16 07:13:20,214] Trial 30 finished with value: 0.7924533023505228 and parameters: {'n_neighbors': 4, 'metric': 'minkowski', 'weights': 'distance'}. Best is trial 1 with value: 0.7942532844758243.\n",
            "[I 2025-07-16 07:13:21,262] Trial 31 finished with value: 0.7822915363303244 and parameters: {'n_neighbors': 15, 'metric': 'euclidean', 'weights': 'distance'}. Best is trial 1 with value: 0.7942532844758243.\n",
            "[I 2025-07-16 07:13:22,041] Trial 32 finished with value: 0.7942532844758243 and parameters: {'n_neighbors': 3, 'metric': 'euclidean', 'weights': 'distance'}. Best is trial 1 with value: 0.7942532844758243.\n",
            "[I 2025-07-16 07:13:22,879] Trial 33 finished with value: 0.7942532844758243 and parameters: {'n_neighbors': 3, 'metric': 'euclidean', 'weights': 'distance'}. Best is trial 1 with value: 0.7942532844758243.\n",
            "[I 2025-07-16 07:13:23,847] Trial 34 finished with value: 0.7739333273751006 and parameters: {'n_neighbors': 4, 'metric': 'euclidean', 'weights': 'uniform'}. Best is trial 1 with value: 0.7942532844758243.\n",
            "[I 2025-07-16 07:13:24,679] Trial 35 finished with value: 0.7936526946107785 and parameters: {'n_neighbors': 5, 'metric': 'minkowski', 'weights': 'distance'}. Best is trial 1 with value: 0.7942532844758243.\n",
            "[I 2025-07-16 07:13:25,504] Trial 36 finished with value: 0.7924533023505228 and parameters: {'n_neighbors': 4, 'metric': 'euclidean', 'weights': 'distance'}. Best is trial 1 with value: 0.7942532844758243.\n",
            "[I 2025-07-16 07:13:26,428] Trial 37 finished with value: 0.7781160067923854 and parameters: {'n_neighbors': 7, 'metric': 'minkowski', 'weights': 'uniform'}. Best is trial 1 with value: 0.7942532844758243.\n",
            "[I 2025-07-16 07:13:35,966] Trial 38 finished with value: 0.7733327375100545 and parameters: {'n_neighbors': 11, 'metric': 'manhattan', 'weights': 'distance'}. Best is trial 1 with value: 0.7942532844758243.\n",
            "[I 2025-07-16 07:13:36,821] Trial 39 finished with value: 0.7942532844758243 and parameters: {'n_neighbors': 3, 'metric': 'euclidean', 'weights': 'distance'}. Best is trial 1 with value: 0.7942532844758243.\n",
            "[I 2025-07-16 07:13:37,737] Trial 40 finished with value: 0.7757136473322014 and parameters: {'n_neighbors': 6, 'metric': 'euclidean', 'weights': 'uniform'}. Best is trial 1 with value: 0.7942532844758243.\n",
            "[I 2025-07-16 07:13:38,603] Trial 41 finished with value: 0.7942532844758243 and parameters: {'n_neighbors': 3, 'metric': 'euclidean', 'weights': 'distance'}. Best is trial 1 with value: 0.7942532844758243.\n",
            "[I 2025-07-16 07:13:39,439] Trial 42 finished with value: 0.7942532844758243 and parameters: {'n_neighbors': 3, 'metric': 'euclidean', 'weights': 'distance'}. Best is trial 1 with value: 0.7942532844758243.\n",
            "[I 2025-07-16 07:13:40,259] Trial 43 finished with value: 0.7924533023505228 and parameters: {'n_neighbors': 4, 'metric': 'euclidean', 'weights': 'distance'}. Best is trial 1 with value: 0.7942532844758243.\n",
            "[I 2025-07-16 07:13:41,084] Trial 44 finished with value: 0.7936526946107785 and parameters: {'n_neighbors': 5, 'metric': 'euclidean', 'weights': 'distance'}. Best is trial 1 with value: 0.7942532844758243.\n",
            "[I 2025-07-16 07:13:41,960] Trial 45 finished with value: 0.7924533023505228 and parameters: {'n_neighbors': 4, 'metric': 'minkowski', 'weights': 'distance'}. Best is trial 1 with value: 0.7942532844758243.\n",
            "[I 2025-07-16 07:13:42,789] Trial 46 finished with value: 0.7942532844758243 and parameters: {'n_neighbors': 3, 'metric': 'euclidean', 'weights': 'distance'}. Best is trial 1 with value: 0.7942532844758243.\n",
            "[I 2025-07-16 07:13:52,309] Trial 47 finished with value: 0.7799088390383412 and parameters: {'n_neighbors': 5, 'metric': 'manhattan', 'weights': 'distance'}. Best is trial 1 with value: 0.7942532844758243.\n",
            "[I 2025-07-16 07:13:53,090] Trial 48 finished with value: 0.7864920904459737 and parameters: {'n_neighbors': 9, 'metric': 'euclidean', 'weights': 'distance'}. Best is trial 1 with value: 0.7942532844758243.\n",
            "[I 2025-07-16 07:13:53,940] Trial 49 finished with value: 0.7864831530967915 and parameters: {'n_neighbors': 10, 'metric': 'euclidean', 'weights': 'distance'}. Best is trial 1 with value: 0.7942532844758243.\n"
          ]
        },
        {
          "output_type": "stream",
          "name": "stdout",
          "text": [
            "Best KNN hyperparameters: {'n_neighbors': 3, 'metric': 'euclidean', 'weights': 'distance'}\n"
          ]
        }
      ]
    },
    {
      "cell_type": "code",
      "source": [
        "# Extract best values\n",
        "best_k = best_knn_params['n_neighbors']\n",
        "best_metric = best_knn_params['metric']\n",
        "best_weights = best_knn_params['weights']\n",
        "\n",
        "def knn(X_train, y_train, X_test, k=best_k, metric=best_metric, weights=best_weights):\n",
        "    \"\"\"Optimized KNN model.\"\"\"\n",
        "\n",
        "    # Convert labels to NumPy array (avoid indexing issues)\n",
        "    y_train = np.array(y_train)\n",
        "\n",
        "    # Fit KNN classifier with optimized parameters\n",
        "    knn_model = KNeighborsClassifier(n_neighbors=k, metric=metric, weights=weights)\n",
        "    knn_model.fit(X_train, y_train)\n",
        "\n",
        "    # Predict on test set\n",
        "    predictions = knn_model.predict(X_test)\n",
        "\n",
        "    return predictions\n"
      ],
      "metadata": {
        "id": "c0hY__1DV0x6"
      },
      "execution_count": 20,
      "outputs": []
    },
    {
      "cell_type": "code",
      "execution_count": 21,
      "metadata": {
        "id": "5e3ed9be"
      },
      "outputs": [],
      "source": [
        "\n",
        "\n",
        "# Run KNN with optimized parameters\n",
        "knn_preds = knn(X_train_features, y_train, X_test_features)\n"
      ]
    },
    {
      "cell_type": "code",
      "execution_count": 22,
      "metadata": {
        "id": "7502eed8"
      },
      "outputs": [],
      "source": [
        "X_train_combined = np.hstack((X_train_features, y_train.reshape(-1, 1)))\n",
        "X_test_combined = np.hstack((X_test_features, knn_preds.reshape(-1, 1)))"
      ]
    },
    {
      "cell_type": "code",
      "source": [
        "import optuna\n",
        "from tensorflow.keras.models import Sequential\n",
        "from tensorflow.keras.layers import Dense, Dropout, BatchNormalization\n",
        "from tensorflow.keras.optimizers import Adam\n",
        "\n",
        "feature_dim = X_train_combined.shape[1]  # Assuming X_train is your feature matrix\n",
        "\n",
        "\n",
        "def objective(trial):\n",
        "    \"\"\"Objective function for optimizing neural network hyperparameters.\"\"\"\n",
        "\n",
        "    # Hyperparameters to optimize\n",
        "    num_units_1 = trial.suggest_int('num_units_1', 128, 512, step=64)  # First Dense layer\n",
        "    num_units_2 = trial.suggest_int('num_units_2', 64, 256, step=64)   # Second Dense layer\n",
        "    num_units_3 = trial.suggest_int('num_units_3', 32, 128, step=32)   # Third Dense layer\n",
        "    dropout_1 = trial.suggest_float('dropout_1', 0.2, 0.5)  # Dropout after first layer\n",
        "    dropout_2 = trial.suggest_float('dropout_2', 0.2, 0.5)  # Dropout after second layer\n",
        "    learning_rate = trial.suggest_loguniform('learning_rate', 0.0001, 0.001)  # Adam learning rate\n",
        "\n",
        "    # Build model\n",
        "    model = Sequential([\n",
        "        Dense(num_units_1, activation='selu', input_shape=(feature_dim,)),\n",
        "        BatchNormalization(),\n",
        "        Dropout(dropout_1),\n",
        "        Dense(num_units_2, activation='selu'),\n",
        "        BatchNormalization(),\n",
        "        Dropout(dropout_2),\n",
        "        Dense(num_units_3, activation='selu'),\n",
        "        BatchNormalization(),\n",
        "        Dense(10, activation='softmax')\n",
        "    ])\n",
        "\n",
        "    # Compile model with tuned learning rate\n",
        "    model.compile(optimizer=Adam(learning_rate=learning_rate),\n",
        "                  loss='sparse_categorical_crossentropy',\n",
        "                  metrics=['accuracy'])\n",
        "\n",
        "    # Train model (Use fewer epochs for tuning)\n",
        "    history = model.fit(\n",
        "        X_train_combined, y_train,\n",
        "        epochs=10,  # Keep epochs low for tuning\n",
        "        batch_size=64,\n",
        "        validation_split=0.2,\n",
        "        verbose=0\n",
        "    )\n",
        "\n",
        "    # Return best validation accuracy\n",
        "    return max(history.history['val_accuracy'])\n"
      ],
      "metadata": {
        "id": "IDTsEzYyUVA_"
      },
      "execution_count": 23,
      "outputs": []
    },
    {
      "cell_type": "code",
      "execution_count": 24,
      "metadata": {
        "id": "e4631237",
        "colab": {
          "base_uri": "https://localhost:8080/"
        },
        "outputId": "154285f4-7e51-419e-e352-e0c5a8addc29"
      },
      "outputs": [
        {
          "output_type": "stream",
          "name": "stderr",
          "text": [
            "[I 2025-07-16 07:13:54,020] A new study created in memory with name: no-name-04c3f845-ddca-4b35-bd11-4832886b83cc\n",
            "/tmp/ipython-input-23-3243621785.py:18: FutureWarning: suggest_loguniform has been deprecated in v3.0.0. This feature will be removed in v6.0.0. See https://github.com/optuna/optuna/releases/tag/v3.0.0. Use suggest_float(..., log=True) instead.\n",
            "  learning_rate = trial.suggest_loguniform('learning_rate', 0.0001, 0.001)  # Adam learning rate\n",
            "/usr/local/lib/python3.11/dist-packages/keras/src/layers/core/dense.py:87: UserWarning: Do not pass an `input_shape`/`input_dim` argument to a layer. When using Sequential models, prefer using an `Input(shape)` object as the first layer in the model instead.\n",
            "  super().__init__(activity_regularizer=activity_regularizer, **kwargs)\n",
            "[I 2025-07-16 07:14:01,503] Trial 0 finished with value: 0.3820895552635193 and parameters: {'num_units_1': 256, 'num_units_2': 256, 'num_units_3': 96, 'dropout_1': 0.30848152887773117, 'dropout_2': 0.3473656414412928, 'learning_rate': 0.0006213889174766283}. Best is trial 0 with value: 0.3820895552635193.\n",
            "[I 2025-07-16 07:14:09,158] Trial 1 finished with value: 0.4597014784812927 and parameters: {'num_units_1': 192, 'num_units_2': 256, 'num_units_3': 96, 'dropout_1': 0.3072724249934424, 'dropout_2': 0.3220840830398892, 'learning_rate': 0.0002522277755355154}. Best is trial 1 with value: 0.4597014784812927.\n",
            "[I 2025-07-16 07:14:16,691] Trial 2 finished with value: 0.38805970549583435 and parameters: {'num_units_1': 256, 'num_units_2': 192, 'num_units_3': 96, 'dropout_1': 0.4361716821419537, 'dropout_2': 0.3344573064661167, 'learning_rate': 0.0003427415258026099}. Best is trial 1 with value: 0.4597014784812927.\n",
            "[I 2025-07-16 07:14:23,450] Trial 3 finished with value: 0.516417920589447 and parameters: {'num_units_1': 192, 'num_units_2': 256, 'num_units_3': 96, 'dropout_1': 0.239773277872059, 'dropout_2': 0.3715886337727806, 'learning_rate': 0.00015175866849818735}. Best is trial 3 with value: 0.516417920589447.\n",
            "[I 2025-07-16 07:14:31,415] Trial 4 finished with value: 0.5104477405548096 and parameters: {'num_units_1': 256, 'num_units_2': 256, 'num_units_3': 128, 'dropout_1': 0.2367251831716622, 'dropout_2': 0.3864583008480431, 'learning_rate': 0.000332855481748181}. Best is trial 3 with value: 0.516417920589447.\n",
            "[I 2025-07-16 07:14:37,663] Trial 5 finished with value: 0.39701491594314575 and parameters: {'num_units_1': 512, 'num_units_2': 128, 'num_units_3': 96, 'dropout_1': 0.2720854416127111, 'dropout_2': 0.2547817618063035, 'learning_rate': 0.00020452687251576763}. Best is trial 3 with value: 0.516417920589447.\n",
            "[I 2025-07-16 07:14:45,019] Trial 6 finished with value: 0.4597014784812927 and parameters: {'num_units_1': 448, 'num_units_2': 192, 'num_units_3': 96, 'dropout_1': 0.32306078824375256, 'dropout_2': 0.3514903890305359, 'learning_rate': 0.00010353573684940642}. Best is trial 3 with value: 0.516417920589447.\n",
            "[I 2025-07-16 07:14:51,045] Trial 7 finished with value: 0.47164177894592285 and parameters: {'num_units_1': 192, 'num_units_2': 128, 'num_units_3': 96, 'dropout_1': 0.35665634171164756, 'dropout_2': 0.38626012117747566, 'learning_rate': 0.0004319599367363731}. Best is trial 3 with value: 0.516417920589447.\n",
            "[I 2025-07-16 07:14:58,225] Trial 8 finished with value: 0.42686566710472107 and parameters: {'num_units_1': 192, 'num_units_2': 64, 'num_units_3': 128, 'dropout_1': 0.3268947685906546, 'dropout_2': 0.2047192821213733, 'learning_rate': 0.0003198627400887348}. Best is trial 3 with value: 0.516417920589447.\n",
            "[I 2025-07-16 07:15:04,892] Trial 9 finished with value: 0.45373135805130005 and parameters: {'num_units_1': 512, 'num_units_2': 64, 'num_units_3': 128, 'dropout_1': 0.4860081108311981, 'dropout_2': 0.47546234850566227, 'learning_rate': 0.00014251761654233508}. Best is trial 3 with value: 0.516417920589447.\n",
            "[I 2025-07-16 07:15:12,939] Trial 10 finished with value: 0.3940298557281494 and parameters: {'num_units_1': 384, 'num_units_2': 192, 'num_units_3': 32, 'dropout_1': 0.2018130783195544, 'dropout_2': 0.46533089323402116, 'learning_rate': 0.0009498720041656081}. Best is trial 3 with value: 0.516417920589447.\n",
            "[I 2025-07-16 07:15:19,114] Trial 11 finished with value: 0.5641791224479675 and parameters: {'num_units_1': 128, 'num_units_2': 256, 'num_units_3': 32, 'dropout_1': 0.2063563726268272, 'dropout_2': 0.4157334495184108, 'learning_rate': 0.0001753805397341925}. Best is trial 11 with value: 0.5641791224479675.\n",
            "[I 2025-07-16 07:15:26,953] Trial 12 finished with value: 0.5641791224479675 and parameters: {'num_units_1': 128, 'num_units_2': 256, 'num_units_3': 32, 'dropout_1': 0.20335893549629208, 'dropout_2': 0.41546942247451674, 'learning_rate': 0.00016578507436521082}. Best is trial 11 with value: 0.5641791224479675.\n",
            "[I 2025-07-16 07:15:32,947] Trial 13 finished with value: 0.5492537021636963 and parameters: {'num_units_1': 128, 'num_units_2': 256, 'num_units_3': 32, 'dropout_1': 0.20157970562004995, 'dropout_2': 0.42214999763175, 'learning_rate': 0.00017766402959934596}. Best is trial 11 with value: 0.5641791224479675.\n",
            "[I 2025-07-16 07:15:40,169] Trial 14 finished with value: 0.4089552164077759 and parameters: {'num_units_1': 128, 'num_units_2': 192, 'num_units_3': 32, 'dropout_1': 0.3784879769012216, 'dropout_2': 0.4381485278733563, 'learning_rate': 0.00010344657703990678}. Best is trial 11 with value: 0.5641791224479675.\n",
            "[I 2025-07-16 07:15:46,895] Trial 15 finished with value: 0.44477611780166626 and parameters: {'num_units_1': 320, 'num_units_2': 256, 'num_units_3': 64, 'dropout_1': 0.2608107961631692, 'dropout_2': 0.4961449799162463, 'learning_rate': 0.0002156362629518185}. Best is trial 11 with value: 0.5641791224479675.\n",
            "[I 2025-07-16 07:15:54,377] Trial 16 finished with value: 0.40597015619277954 and parameters: {'num_units_1': 128, 'num_units_2': 128, 'num_units_3': 64, 'dropout_1': 0.4144289232099934, 'dropout_2': 0.4245743436886836, 'learning_rate': 0.00013777414049554427}. Best is trial 11 with value: 0.5641791224479675.\n",
            "[I 2025-07-16 07:16:00,069] Trial 17 finished with value: 0.41791045665740967 and parameters: {'num_units_1': 320, 'num_units_2': 192, 'num_units_3': 64, 'dropout_1': 0.27635133349497704, 'dropout_2': 0.30792653101133405, 'learning_rate': 0.00027087645408807777}. Best is trial 11 with value: 0.5641791224479675.\n",
            "[I 2025-07-16 07:16:07,294] Trial 18 finished with value: 0.5552238821983337 and parameters: {'num_units_1': 128, 'num_units_2': 256, 'num_units_3': 32, 'dropout_1': 0.2196939324193825, 'dropout_2': 0.4024776286321603, 'learning_rate': 0.0001740839878108816}. Best is trial 11 with value: 0.5641791224479675.\n",
            "[I 2025-07-16 07:16:13,341] Trial 19 finished with value: 0.5850746035575867 and parameters: {'num_units_1': 320, 'num_units_2': 192, 'num_units_3': 64, 'dropout_1': 0.24647130040897708, 'dropout_2': 0.44320755843569604, 'learning_rate': 0.00012562021320442352}. Best is trial 19 with value: 0.5850746035575867.\n"
          ]
        },
        {
          "output_type": "stream",
          "name": "stdout",
          "text": [
            "Best hyperparameters: {'num_units_1': 320, 'num_units_2': 192, 'num_units_3': 64, 'dropout_1': 0.24647130040897708, 'dropout_2': 0.44320755843569604, 'learning_rate': 0.00012562021320442352}\n"
          ]
        }
      ],
      "source": [
        "study = optuna.create_study(direction='maximize')  # Maximize accuracy\n",
        "study.optimize(objective, n_trials=20)  # Run 20 trials\n",
        "\n",
        "# Get the best parameters\n",
        "best_params = study.best_params\n",
        "print(\"Best hyperparameters:\", best_params)"
      ]
    },
    {
      "cell_type": "code",
      "source": [
        "# Unpack Optuna best parameters\n",
        "num_units_1 = best_params['num_units_1']\n",
        "num_units_2 = best_params['num_units_2']\n",
        "num_units_3 = best_params['num_units_3']\n",
        "dropout_1 = best_params['dropout_1']\n",
        "dropout_2 = best_params['dropout_2']\n",
        "learning_rate = best_params['learning_rate']\n",
        "\n",
        "\n",
        "\n",
        "cv_scores = []\n",
        "all_preds = []\n",
        "all_true = []\n",
        "\n",
        "kfold = StratifiedKFold(n_splits=5, shuffle=True, random_state=42)\n",
        "\n",
        "for fold, (train_idx, val_idx) in enumerate(kfold.split(X_train_combined, y_train)):\n",
        "    print(f\"\\n===== Training Fold {fold+1} =====\")\n",
        "\n",
        "    X_train_fold, X_val_fold = X_train_combined[train_idx], X_train_combined[val_idx]\n",
        "    y_train_fold, y_val_fold = y_train[train_idx], y_train[val_idx]\n",
        "\n",
        "    # Use tuned architecture\n",
        "    model = Sequential([\n",
        "        Dense(num_units_1, activation='selu', input_shape=(X_train_combined.shape[1],)),\n",
        "        BatchNormalization(), Dropout(dropout_1),\n",
        "\n",
        "        Dense(num_units_2, activation='selu'),\n",
        "        BatchNormalization(), Dropout(dropout_2),\n",
        "\n",
        "        Dense(num_units_3, activation='selu'),\n",
        "        BatchNormalization(),\n",
        "\n",
        "        Dense(10, activation='softmax')\n",
        "    ])\n",
        "\n",
        "    model.compile(optimizer=Adam(learning_rate=learning_rate),\n",
        "                  loss='sparse_categorical_crossentropy', metrics=['accuracy'])\n",
        "\n",
        "    model.fit(X_train_fold, y_train_fold,\n",
        "              validation_data=(X_val_fold, y_val_fold),\n",
        "              epochs=20,\n",
        "              batch_size=64,\n",
        "              callbacks=[ReduceLROnPlateau(monitor=\"val_loss\", factor=0.5, patience=5, min_lr=1e-6)],\n",
        "              verbose=0)\n",
        "\n",
        "    val_preds = np.argmax(model.predict(X_val_fold), axis=1)\n",
        "    val_acc = accuracy_score(y_val_fold, val_preds)\n",
        "    cv_scores.append(val_acc)\n",
        "\n",
        "    print(f\"Fold {fold+1} Accuracy: {val_acc:.4f}\")\n",
        "\n",
        "    all_preds.extend(val_preds)\n",
        "    all_true.extend(y_val_fold)\n",
        "\n",
        "\n",
        "\n",
        "\n"
      ],
      "metadata": {
        "id": "DB7EgQnxVa6w",
        "colab": {
          "base_uri": "https://localhost:8080/"
        },
        "outputId": "910949fe-7ce1-4dce-863d-be79ccc1125a"
      },
      "execution_count": 25,
      "outputs": [
        {
          "output_type": "stream",
          "name": "stderr",
          "text": [
            "/usr/local/lib/python3.11/dist-packages/keras/src/layers/core/dense.py:87: UserWarning: Do not pass an `input_shape`/`input_dim` argument to a layer. When using Sequential models, prefer using an `Input(shape)` object as the first layer in the model instead.\n",
            "  super().__init__(activity_regularizer=activity_regularizer, **kwargs)\n"
          ]
        },
        {
          "output_type": "stream",
          "name": "stdout",
          "text": [
            "\n",
            "===== Training Fold 1 =====\n",
            "\u001b[1m11/11\u001b[0m \u001b[32m━━━━━━━━━━━━━━━━━━━━\u001b[0m\u001b[37m\u001b[0m \u001b[1m0s\u001b[0m 13ms/step\n",
            "Fold 1 Accuracy: 0.7104\n",
            "\n",
            "===== Training Fold 2 =====\n"
          ]
        },
        {
          "output_type": "stream",
          "name": "stderr",
          "text": [
            "/usr/local/lib/python3.11/dist-packages/keras/src/layers/core/dense.py:87: UserWarning: Do not pass an `input_shape`/`input_dim` argument to a layer. When using Sequential models, prefer using an `Input(shape)` object as the first layer in the model instead.\n",
            "  super().__init__(activity_regularizer=activity_regularizer, **kwargs)\n"
          ]
        },
        {
          "output_type": "stream",
          "name": "stdout",
          "text": [
            "\u001b[1m11/11\u001b[0m \u001b[32m━━━━━━━━━━━━━━━━━━━━\u001b[0m\u001b[37m\u001b[0m \u001b[1m0s\u001b[0m 12ms/step\n",
            "Fold 2 Accuracy: 0.7224\n",
            "\n",
            "===== Training Fold 3 =====\n"
          ]
        },
        {
          "output_type": "stream",
          "name": "stderr",
          "text": [
            "/usr/local/lib/python3.11/dist-packages/keras/src/layers/core/dense.py:87: UserWarning: Do not pass an `input_shape`/`input_dim` argument to a layer. When using Sequential models, prefer using an `Input(shape)` object as the first layer in the model instead.\n",
            "  super().__init__(activity_regularizer=activity_regularizer, **kwargs)\n"
          ]
        },
        {
          "output_type": "stream",
          "name": "stdout",
          "text": [
            "\u001b[1m11/11\u001b[0m \u001b[32m━━━━━━━━━━━━━━━━━━━━\u001b[0m\u001b[37m\u001b[0m \u001b[1m0s\u001b[0m 13ms/step\n",
            "Fold 3 Accuracy: 0.7515\n",
            "\n",
            "===== Training Fold 4 =====\n"
          ]
        },
        {
          "output_type": "stream",
          "name": "stderr",
          "text": [
            "/usr/local/lib/python3.11/dist-packages/keras/src/layers/core/dense.py:87: UserWarning: Do not pass an `input_shape`/`input_dim` argument to a layer. When using Sequential models, prefer using an `Input(shape)` object as the first layer in the model instead.\n",
            "  super().__init__(activity_regularizer=activity_regularizer, **kwargs)\n"
          ]
        },
        {
          "output_type": "stream",
          "name": "stdout",
          "text": [
            "\u001b[1m11/11\u001b[0m \u001b[32m━━━━━━━━━━━━━━━━━━━━\u001b[0m\u001b[37m\u001b[0m \u001b[1m0s\u001b[0m 14ms/step\n",
            "Fold 4 Accuracy: 0.7665\n",
            "\n",
            "===== Training Fold 5 =====\n"
          ]
        },
        {
          "output_type": "stream",
          "name": "stderr",
          "text": [
            "/usr/local/lib/python3.11/dist-packages/keras/src/layers/core/dense.py:87: UserWarning: Do not pass an `input_shape`/`input_dim` argument to a layer. When using Sequential models, prefer using an `Input(shape)` object as the first layer in the model instead.\n",
            "  super().__init__(activity_regularizer=activity_regularizer, **kwargs)\n"
          ]
        },
        {
          "output_type": "stream",
          "name": "stdout",
          "text": [
            "\u001b[1m11/11\u001b[0m \u001b[32m━━━━━━━━━━━━━━━━━━━━\u001b[0m\u001b[37m\u001b[0m \u001b[1m0s\u001b[0m 13ms/step\n",
            "Fold 5 Accuracy: 0.7096\n"
          ]
        }
      ]
    },
    {
      "cell_type": "code",
      "source": [
        "# Summary Metrics\n",
        "print(\"\\n========== Cross-Validation Summary ==========\")\n",
        "print(\"Per-fold Accuracies:\", [f\"{s:.4f}\" for s in cv_scores])\n",
        "print(\"Mean Accuracy:\", f\"{np.mean(cv_scores):.4f}\")\n",
        "print(\"Standard Deviation:\", f\"{np.std(cv_scores):.4f}\")"
      ],
      "metadata": {
        "id": "_s5h93N27GNI",
        "colab": {
          "base_uri": "https://localhost:8080/"
        },
        "outputId": "a1173ed3-d583-4372-daef-87cfee251a83"
      },
      "execution_count": 26,
      "outputs": [
        {
          "output_type": "stream",
          "name": "stdout",
          "text": [
            "\n",
            "========== Cross-Validation Summary ==========\n",
            "Per-fold Accuracies: ['0.7104', '0.7224', '0.7515', '0.7665', '0.7096']\n",
            "Mean Accuracy: 0.7321\n",
            "Standard Deviation: 0.0229\n"
          ]
        }
      ]
    },
    {
      "cell_type": "code",
      "source": [
        "print(\"\\n========== Final Classification Report ==========\")\n",
        "print(classification_report(all_true, all_preds, digits=4))\n"
      ],
      "metadata": {
        "id": "M3ijT4wD7GTP",
        "colab": {
          "base_uri": "https://localhost:8080/"
        },
        "outputId": "37bb121a-9ee5-4650-d913-af4918f50ea4"
      },
      "execution_count": 27,
      "outputs": [
        {
          "output_type": "stream",
          "name": "stdout",
          "text": [
            "\n",
            "========== Final Classification Report ==========\n",
            "              precision    recall  f1-score   support\n",
            "\n",
            "           0     0.7136    0.9500    0.8150       160\n",
            "           1     0.7241    0.5250    0.6087       160\n",
            "           2     0.7239    0.7375    0.7307       160\n",
            "           3     0.6899    0.6899    0.6899       158\n",
            "           4     0.8239    0.7312    0.7748       160\n",
            "           5     0.8397    0.8037    0.8213       163\n",
            "           6     0.6826    0.6826    0.6826       167\n",
            "           7     0.7473    0.7596    0.7534       183\n",
            "           8     0.7155    0.4770    0.5724       174\n",
            "           9     0.6941    0.9465    0.8009       187\n",
            "\n",
            "    accuracy                         0.7321      1672\n",
            "   macro avg     0.7355    0.7303    0.7250      1672\n",
            "weighted avg     0.7348    0.7321    0.7253      1672\n",
            "\n"
          ]
        }
      ]
    },
    {
      "cell_type": "code",
      "source": [
        "import matplotlib.pyplot as plt\n",
        "import seaborn as sns\n",
        "conf_matrix = confusion_matrix(all_true, all_preds)\n",
        "plt.figure(figsize=(10, 8))\n",
        "sns.heatmap(conf_matrix, annot=True, fmt='d', cmap='Blues')\n",
        "plt.title(\"Confusion Matrix\")\n",
        "plt.xlabel(\"Predicted Labels\")\n",
        "plt.ylabel(\"True Labels\")\n",
        "plt.show()\n"
      ],
      "metadata": {
        "id": "aIVMh7wWFh9j",
        "colab": {
          "base_uri": "https://localhost:8080/",
          "height": 718
        },
        "outputId": "d7cbfe9a-926f-4c46-ec42-abf5183d05fa"
      },
      "execution_count": 28,
      "outputs": [
        {
          "output_type": "display_data",
          "data": {
            "text/plain": [
              "<Figure size 1000x800 with 2 Axes>"
            ],
            "image/png": "[encoded data removed]"
          },
          "metadata": {}
        }
      ]
    },
    {
      "cell_type": "code",
      "source": [
        "from sklearn.manifold import TSNE\n",
        "import matplotlib.pyplot as plt\n",
        "import seaborn as sns\n",
        "\n",
        "# Apply t-SNE on training or validation feature space\n",
        "tsne = TSNE(n_components=2, random_state=42, perplexity=30)\n",
        "X_tsne = tsne.fit_transform(X_test_features)\n",
        "\n",
        "plt.figure(figsize=(10, 8))\n",
        "sns.scatterplot(x=X_tsne[:, 0], y=X_tsne[:, 1], hue=y_test, palette='tab10', legend='full', s=60)\n",
        "plt.title(\"t-SNE Visualization of Test Features\")\n",
        "plt.xlabel(\"t-SNE 1\")\n",
        "plt.ylabel(\"t-SNE 2\")\n",
        "plt.legend(title=\"Digit\")\n",
        "plt.grid(True)\n",
        "plt.tight_layout()\n",
        "plt.show()\n"
      ],
      "metadata": {
        "id": "znROTLMm7G19"
      },
      "execution_count": null,
      "outputs": []
    },
    {
      "cell_type": "code",
      "source": [
        "from sklearn.preprocessing import label_binarize\n",
        "from sklearn.metrics import precision_recall_curve, average_precision_score\n",
        "\n",
        "# Get true labels and predicted probabilities\n",
        "y_test_bin = label_binarize(y_test, classes=np.unique(y_test))  # shape: (n_samples, n_classes)\n",
        "y_scores = model.predict(X_test_combined)  # shape: (n_samples, n_classes)\n",
        "\n",
        "# Compute PR curves\n",
        "plt.figure(figsize=(10, 8))\n",
        "for i in range(10):\n",
        "    precision, recall, _ = precision_recall_curve(y_test_bin[:, i], y_scores[:, i])\n",
        "    ap_score = average_precision_score(y_test_bin[:, i], y_scores[:, i])\n",
        "    plt.plot(recall, precision, lw=2, label=f'Class {i} (AP={ap_score:.2f})')\n",
        "\n",
        "plt.xlabel(\"Recall\")\n",
        "plt.ylabel(\"Precision\")\n",
        "plt.title(\"Precision-Recall Curves (One-vs-Rest)\")\n",
        "plt.legend()\n",
        "plt.grid(True)\n",
        "plt.tight_layout()\n",
        "plt.show()\n"
      ],
      "metadata": {
        "id": "d730MkSrrGIV"
      },
      "execution_count": null,
      "outputs": []
    },
    {
      "cell_type": "code",
      "source": [
        "from sklearn.metrics import roc_curve, auc\n",
        "\n",
        "plt.figure(figsize=(10, 8))\n",
        "for i in range(10):\n",
        "    fpr, tpr, _ = roc_curve(y_test_bin[:, i], y_scores[:, i])\n",
        "    roc_auc = auc(fpr, tpr)\n",
        "    plt.plot(fpr, tpr, lw=2, label=f'Class {i} (AUC={roc_auc:.2f})')\n",
        "\n",
        "plt.plot([0, 1], [0, 1], 'k--', lw=1)\n",
        "plt.xlabel(\"False Positive Rate\")\n",
        "plt.ylabel(\"True Positive Rate\")\n",
        "plt.title(\"ROC Curves (One-vs-Rest)\")\n",
        "plt.legend()\n",
        "plt.grid(True)\n",
        "plt.tight_layout()\n",
        "plt.show()\n"
      ],
      "metadata": {
        "id": "7voPgZTUrGL9"
      },
      "execution_count": null,
      "outputs": []
    }
  ],
  "metadata": {
    "colab": {
      "provenance": [],
      "include_colab_link": true
    },
    "kernelspec": {
      "display_name": "Python 3",
      "name": "python3"
    },
    "language_info": {
      "name": "python"
    }
  },
  "nbformat": 4,
  "nbformat_minor": 0
}