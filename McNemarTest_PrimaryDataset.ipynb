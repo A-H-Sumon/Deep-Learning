{
  "cells": [
    {
      "cell_type": "markdown",
      "metadata": {
        "id": "view-in-github",
        "colab_type": "text"
      },
      "source": [
        "<a href=\"https://colab.research.google.com/github/A-H-Sumon/Deep-Learning/blob/main/McNemarTest_PrimaryDataset.ipynb\" target=\"_parent\"><img src=\"https://colab.research.google.com/assets/colab-badge.svg\" alt=\"Open In Colab\"/></a>"
      ]
    },
    {
      "cell_type": "code",
      "execution_count": 1,
      "metadata": {
        "id": "95686169"
      },
      "outputs": [],
      "source": [
        "\n",
        "import numpy as np\n",
        "import tensorflow as tf\n",
        "from tensorflow.keras.preprocessing.image import ImageDataGenerator\n",
        "from joblib import Parallel, delayed\n",
        "import multiprocessing\n",
        "\n",
        "import os\n",
        "import cv2\n",
        "import numpy as np\n",
        "import pandas as pd\n",
        "from sklearn.model_selection import train_test_split\n",
        "from sklearn.preprocessing import StandardScaler, LabelEncoder\n",
        "from sklearn.metrics import classification_report, confusion_matrix\n",
        "from sklearn.neighbors import NearestNeighbors\n",
        "from tensorflow.keras.models import Sequential\n",
        "from tensorflow.keras.layers import Dense, Dropout\n",
        "from tensorflow.keras.utils import to_categorical\n",
        "from tensorflow.keras.preprocessing.image import ImageDataGenerator\n",
        "from skimage.feature import hog\n",
        "from skimage.filters import gabor\n",
        "from joblib import Parallel, delayed\n",
        "import multiprocessing\n",
        "from termcolor import colored\n",
        "\n",
        "from sklearn.model_selection import StratifiedKFold\n",
        "from sklearn.metrics import accuracy_score, classification_report, confusion_matrix\n",
        "from tensorflow.keras.callbacks import ReduceLROnPlateau\n",
        "from tensorflow.keras.models import Sequential\n",
        "from tensorflow.keras.layers import Dense, Dropout, BatchNormalization\n",
        "from tensorflow.keras.optimizers import Adam"
      ]
    },
    {
      "cell_type": "code",
      "source": [],
      "metadata": {
        "id": "-kr1iv78nqUM"
      },
      "execution_count": 1,
      "outputs": []
    },
    {
      "cell_type": "code",
      "source": [],
      "metadata": {
        "id": "VPga7XY3ISRm"
      },
      "execution_count": 1,
      "outputs": []
    },
    {
      "cell_type": "code",
      "execution_count": 2,
      "metadata": {
        "colab": {
          "base_uri": "https://localhost:8080/"
        },
        "id": "bea446c1",
        "outputId": "0375d3f3-36df-4f21-8186-9b1e65bf3cca"
      },
      "outputs": [
        {
          "output_type": "stream",
          "name": "stdout",
          "text": [
            "Mounted at /content/drive\n"
          ]
        }
      ],
      "source": [
        "from google.colab import drive\n",
        "drive.mount('/content/drive')\n"
      ]
    },
    {
      "cell_type": "code",
      "source": [
        "from sklearn.model_selection import train_test_split\n",
        "\n",
        "# Load dataset\n",
        "df = pd.read_csv(\"/content/drive/My Drive/dataset.csv\", dtype=str)  # Ensure paths are read as strings\n",
        "\n",
        "# Define features and labels\n",
        "X = df[\"image_path\"]  # Image paths\n",
        "y = df[\"label\"].astype(int)  # Labels as integers\n",
        "\n",
        "# Split into 80% training, 20% testing\n",
        "X_train, X_test, y_train, y_test = train_test_split(X, y, test_size=0.2, random_state=42, stratify=y, shuffle=True)\n",
        "\n",
        "# Create DataFrames\n",
        "train_df = pd.DataFrame({\"image_path\": X_train, \"label\": y_train})\n",
        "test_df = pd.read_csv('/content/drive/MyDrive/test_df.csv')\n",
        "\n",
        "\n"
      ],
      "metadata": {
        "id": "tVMbNwAdnSSr"
      },
      "execution_count": 3,
      "outputs": []
    },
    {
      "cell_type": "code",
      "source": [
        "print(df['label'].unique())  # Check unique labels in the dataset\n",
        "print(df['label'].nunique())  # Check the number of unique classes\n"
      ],
      "metadata": {
        "colab": {
          "base_uri": "https://localhost:8080/"
        },
        "id": "frWuQ6q11XVW",
        "outputId": "f357145b-5852-4fcd-df05-1461babf23da"
      },
      "execution_count": 4,
      "outputs": [
        {
          "output_type": "stream",
          "name": "stdout",
          "text": [
            "['0' '1' '2' '3' '4' '5' '6' '7' '8' '9']\n",
            "10\n"
          ]
        }
      ]
    },
    {
      "cell_type": "code",
      "execution_count": 5,
      "metadata": {
        "colab": {
          "base_uri": "https://localhost:8080/"
        },
        "id": "4f8da4f0",
        "outputId": "c108d705-5868-485d-b06b-b94a2c274556"
      },
      "outputs": [
        {
          "output_type": "stream",
          "name": "stdout",
          "text": [
            "Total training images: 1672\n",
            "Total testing images: 418\n"
          ]
        }
      ],
      "source": [
        "print(f\"Total training images: {len(train_df)}\")\n",
        "print(f\"Total testing images: {len(test_df)}\")"
      ]
    },
    {
      "cell_type": "code",
      "execution_count": 6,
      "metadata": {
        "id": "1c163614"
      },
      "outputs": [],
      "source": [
        "import cv2\n",
        "import numpy as np\n",
        "import cv2.ximgproc as xip\n",
        "\n",
        "def preprocess_image(file_path):\n",
        "    img = cv2.imread(file_path, cv2.IMREAD_GRAYSCALE)\n",
        "    if img is None:\n",
        "        return np.zeros((28, 28))  # Placeholder for missing images\n",
        "\n",
        "    # Apply Otsu's Thresholding\n",
        "    _, img = cv2.threshold(img, 0, 255, cv2.THRESH_BINARY + cv2.THRESH_OTSU)\n",
        "\n",
        "    # Resize image to 28x28\n",
        "    img = cv2.resize(img, (28, 28), interpolation=cv2.INTER_AREA) / 255.0\n",
        "\n",
        "    return img\n"
      ]
    },
    {
      "cell_type": "code",
      "source": [
        "# ======================== Load & Preprocess Images ========================\n",
        "train_images = np.array([preprocess_image(fp) for fp in train_df['image_path'].values])"
      ],
      "metadata": {
        "id": "M9io7DBwNbGK"
      },
      "execution_count": 7,
      "outputs": []
    },
    {
      "cell_type": "code",
      "execution_count": 8,
      "metadata": {
        "id": "0c9f1f30"
      },
      "outputs": [],
      "source": [
        "import cv2\n",
        "import numpy as np\n",
        "import multiprocessing\n",
        "from joblib import Parallel, delayed\n",
        "from tensorflow.keras.preprocessing.image import ImageDataGenerator\n",
        "import random\n",
        "\n",
        "\n",
        "\n",
        "def augment_image(img):\n",
        "    rows, cols = img.shape\n",
        "\n",
        "\n",
        "\n",
        "    # Random Rotation\n",
        "    angle = random.uniform(-15, 15)\n",
        "    M = cv2.getRotationMatrix2D((cols / 2, rows / 2), angle, 1)\n",
        "    rotated = cv2.warpAffine(img, M, (cols, rows))\n",
        "\n",
        "    # Random Shifting\n",
        "    tx = random.uniform(-2, 2)\n",
        "    ty = random.uniform(-2, 2)\n",
        "    M_shift = np.float32([[1, 0, tx], [0, 1, ty]])\n",
        "    shifted = cv2.warpAffine(rotated, M_shift, (cols, rows))\n",
        "\n",
        "    return shifted\n",
        "\n",
        "def augment_dataset(train_images):\n",
        "    \"\"\"Applies augmentation to a dataset using parallel processing.\"\"\"\n",
        "    num_cores = multiprocessing.cpu_count()\n",
        "    augmented_images = Parallel(n_jobs=num_cores)(\n",
        "        delayed(augment_image)(img) for img in train_images\n",
        "    )\n",
        "    return np.array(augmented_images)\n",
        "\n",
        "# Apply augmentation to dataset\n",
        "augmented_images = augment_dataset(train_images)\n",
        "\n"
      ]
    },
    {
      "cell_type": "code",
      "source": [
        "test_df['label'] = test_df['label'].astype(str)\n",
        "\n",
        "test_datagen = ImageDataGenerator(preprocessing_function=tf.keras.applications.efficientnet.preprocess_input)\n",
        "test_generator = test_datagen.flow_from_dataframe(\n",
        "    dataframe=test_df,\n",
        "    x_col='image_path',\n",
        "    y_col='label',  # Include labels here\n",
        "    target_size=(224, 224),\n",
        "    batch_size=16,\n",
        "    class_mode='categorical',  # Ensure class mode is categorical\n",
        "    shuffle=False\n",
        ")\n"
      ],
      "metadata": {
        "colab": {
          "base_uri": "https://localhost:8080/"
        },
        "id": "y7kW4xjFSvyd",
        "outputId": "8c7e73a3-8323-4175-c3b7-b04e63d67d7c"
      },
      "execution_count": 9,
      "outputs": [
        {
          "output_type": "stream",
          "name": "stdout",
          "text": [
            "Found 418 validated image filenames belonging to 10 classes.\n"
          ]
        }
      ]
    },
    {
      "cell_type": "code",
      "source": [
        "cores = multiprocessing.cpu_count()\n",
        "print(cores)"
      ],
      "metadata": {
        "colab": {
          "base_uri": "https://localhost:8080/"
        },
        "id": "EVdthSUnGwyg",
        "outputId": "9f6fe58a-a7f1-49d8-8664-484605bc0faf"
      },
      "execution_count": 10,
      "outputs": [
        {
          "output_type": "stream",
          "name": "stdout",
          "text": [
            "2\n"
          ]
        }
      ]
    },
    {
      "cell_type": "code",
      "source": [
        "\n",
        "\n",
        "!pip install mahotas\n"
      ],
      "metadata": {
        "colab": {
          "base_uri": "https://localhost:8080/"
        },
        "id": "r8zA8_UCPXMD",
        "outputId": "1424f1e3-892a-4caa-af8f-f3e8a2f7f52f"
      },
      "execution_count": 11,
      "outputs": [
        {
          "output_type": "stream",
          "name": "stdout",
          "text": [
            "Collecting mahotas\n",
            "  Downloading mahotas-1.4.18-cp311-cp311-manylinux_2_17_x86_64.manylinux2014_x86_64.whl.metadata (14 kB)\n",
            "Requirement already satisfied: numpy in /usr/local/lib/python3.11/dist-packages (from mahotas) (2.0.2)\n",
            "Downloading mahotas-1.4.18-cp311-cp311-manylinux_2_17_x86_64.manylinux2014_x86_64.whl (5.8 MB)\n",
            "\u001b[2K   \u001b[90m━━━━━━━━━━━━━━━━━━━━━━━━━━━━━━━━━━━━━━━━\u001b[0m \u001b[32m5.8/5.8 MB\u001b[0m \u001b[31m54.3 MB/s\u001b[0m eta \u001b[36m0:00:00\u001b[0m\n",
            "\u001b[?25hInstalling collected packages: mahotas\n",
            "Successfully installed mahotas-1.4.18\n"
          ]
        }
      ]
    },
    {
      "cell_type": "code",
      "execution_count": 12,
      "metadata": {
        "id": "9060b8d6"
      },
      "outputs": [],
      "source": [
        "from joblib import Parallel, delayed\n",
        "import numpy as np\n",
        "import multiprocessing\n",
        "from skimage.feature import hog, local_binary_pattern\n",
        "from skimage.filters import gabor\n",
        "from mahotas.features import zernike_moments\n",
        "\n",
        "# Feature Extraction\n",
        "def extract_features_single(img):\n",
        "     # Extract HOG features\n",
        "    hog_features = hog(img, pixels_per_cell=(4, 4), cells_per_block=(2, 2), feature_vector=True)\n",
        "\n",
        "    # Extract Gabor features\n",
        "    gabor_response_real, gabor_response_imag = gabor(img, frequency=0.6)\n",
        "    gabor_features = np.mean(gabor_response_real) + np.mean(gabor_response_imag)\n",
        "\n",
        "    # Extract LBP features\n",
        "    lbp = local_binary_pattern(img, P=8, R=1, method=\"uniform\")\n",
        "    lbp_hist, _ = np.histogram(lbp.ravel(), bins=np.arange(0, 10), range=(0, 10))\n",
        "    lbp_hist = lbp_hist.astype(\"float\")\n",
        "    lbp_hist /= lbp_hist.sum()  # Normalize LBP histogram\n",
        "\n",
        "    return np.hstack([hog_features, gabor_features, lbp_hist])\n",
        "\n",
        "def extract_features(images):\n",
        "    num_cores = multiprocessing.cpu_count()\n",
        "    features = Parallel(n_jobs=num_cores)(delayed(extract_features_single)(img) for img in images)\n",
        "    return np.array(features)\n",
        "\n",
        "# Apply feature extraction\n",
        "augmented_features = extract_features(augmented_images)\n",
        "\n"
      ]
    },
    {
      "cell_type": "code",
      "execution_count": 13,
      "metadata": {
        "id": "5c02952b"
      },
      "outputs": [],
      "source": [
        "# ======================== Data Preparation ========================\n",
        "X_train_preprocessed = np.array([preprocess_image(fp) for fp in train_df['image_path']])\n",
        "X_test_preprocessed = np.array([preprocess_image(fp) for fp in test_df['image_path']])"
      ]
    },
    {
      "cell_type": "code",
      "source": [
        "# Apply augmentation\n",
        "X_train_augmented = augment_dataset(X_train_preprocessed)\n",
        "\n",
        "\n"
      ],
      "metadata": {
        "id": "nsq32NpNTfXP"
      },
      "execution_count": 14,
      "outputs": []
    },
    {
      "cell_type": "code",
      "source": [
        "# Extract features from augmented images\n",
        "X_train_features = extract_features(X_train_augmented)\n",
        "X_test_features = extract_features(X_test_preprocessed)  # No augmentation for test set"
      ],
      "metadata": {
        "id": "exrR8qUkTfZ7"
      },
      "execution_count": 15,
      "outputs": []
    },
    {
      "cell_type": "code",
      "execution_count": 16,
      "metadata": {
        "id": "77d5a6f4"
      },
      "outputs": [],
      "source": [
        "scaler = StandardScaler()\n",
        "X_train_features = scaler.fit_transform(X_train_features)\n",
        "X_test_features = scaler.transform(X_test_features)\n",
        "\n",
        "encoder = LabelEncoder()\n",
        "y_train = encoder.fit_transform(train_df['label'])\n",
        "y_test = encoder.fit_transform(test_df['label'])"
      ]
    },
    {
      "cell_type": "code",
      "execution_count": 17,
      "metadata": {
        "id": "1fd3216e",
        "colab": {
          "base_uri": "https://localhost:8080/"
        },
        "outputId": "49fe679c-bd9e-4464-fe9a-9550f2fe9904"
      },
      "outputs": [
        {
          "output_type": "stream",
          "name": "stdout",
          "text": [
            "Collecting optuna\n",
            "  Downloading optuna-4.4.0-py3-none-any.whl.metadata (17 kB)\n",
            "Collecting alembic>=1.5.0 (from optuna)\n",
            "  Downloading alembic-1.16.4-py3-none-any.whl.metadata (7.3 kB)\n",
            "Collecting colorlog (from optuna)\n",
            "  Downloading colorlog-6.9.0-py3-none-any.whl.metadata (10 kB)\n",
            "Requirement already satisfied: numpy in /usr/local/lib/python3.11/dist-packages (from optuna) (2.0.2)\n",
            "Requirement already satisfied: packaging>=20.0 in /usr/local/lib/python3.11/dist-packages (from optuna) (25.0)\n",
            "Requirement already satisfied: sqlalchemy>=1.4.2 in /usr/local/lib/python3.11/dist-packages (from optuna) (2.0.41)\n",
            "Requirement already satisfied: tqdm in /usr/local/lib/python3.11/dist-packages (from optuna) (4.67.1)\n",
            "Requirement already satisfied: PyYAML in /usr/local/lib/python3.11/dist-packages (from optuna) (6.0.2)\n",
            "Requirement already satisfied: Mako in /usr/lib/python3/dist-packages (from alembic>=1.5.0->optuna) (1.1.3)\n",
            "Requirement already satisfied: typing-extensions>=4.12 in /usr/local/lib/python3.11/dist-packages (from alembic>=1.5.0->optuna) (4.14.1)\n",
            "Requirement already satisfied: greenlet>=1 in /usr/local/lib/python3.11/dist-packages (from sqlalchemy>=1.4.2->optuna) (3.2.3)\n",
            "Downloading optuna-4.4.0-py3-none-any.whl (395 kB)\n",
            "\u001b[2K   \u001b[90m━━━━━━━━━━━━━━━━━━━━━━━━━━━━━━━━━━━━━━━━\u001b[0m \u001b[32m395.9/395.9 kB\u001b[0m \u001b[31m8.3 MB/s\u001b[0m eta \u001b[36m0:00:00\u001b[0m\n",
            "\u001b[?25hDownloading alembic-1.16.4-py3-none-any.whl (247 kB)\n",
            "\u001b[2K   \u001b[90m━━━━━━━━━━━━━━━━━━━━━━━━━━━━━━━━━━━━━━━━\u001b[0m \u001b[32m247.0/247.0 kB\u001b[0m \u001b[31m16.4 MB/s\u001b[0m eta \u001b[36m0:00:00\u001b[0m\n",
            "\u001b[?25hDownloading colorlog-6.9.0-py3-none-any.whl (11 kB)\n",
            "Installing collected packages: colorlog, alembic, optuna\n",
            "Successfully installed alembic-1.16.4 colorlog-6.9.0 optuna-4.4.0\n"
          ]
        }
      ],
      "source": [
        "!pip install optuna\n",
        "\n"
      ]
    },
    {
      "cell_type": "code",
      "source": [
        "import cv2\n",
        "import numpy as np\n",
        "from glob import glob\n",
        "\n",
        "def load_images(image_paths):\n",
        "    data = []\n",
        "    for path in image_paths:\n",
        "        img = cv2.imread(path, cv2.IMREAD_GRAYSCALE)  # Read as grayscale\n",
        "        img = cv2.resize(img, (64, 64))  # Resize to a fixed size\n",
        "        img = img.flatten()  # Convert to 1D array\n",
        "        data.append(img)\n",
        "    return np.array(data)\n",
        "\n",
        "# Assuming X_train originally contains image file paths\n",
        "X_train = load_images(X_train)\n"
      ],
      "metadata": {
        "id": "GE7IHILLiyvx"
      },
      "execution_count": 18,
      "outputs": []
    },
    {
      "cell_type": "code",
      "source": [
        "import optuna\n",
        "from sklearn.neighbors import KNeighborsClassifier\n",
        "from sklearn.model_selection import cross_val_score\n",
        "\n",
        "def objective(trial):\n",
        "    \"\"\"Objective function for optimizing KNN hyperparameters.\"\"\"\n",
        "\n",
        "    # Hyperparameters to optimize\n",
        "    k = trial.suggest_int('n_neighbors', 3, 15)  # Number of neighbors\n",
        "    metric = trial.suggest_categorical('metric', ['euclidean', 'manhattan', 'minkowski'])\n",
        "    weights = trial.suggest_categorical('weights', ['uniform', 'distance'])\n",
        "\n",
        "    # Initialize KNN classifier\n",
        "    knn_model = KNeighborsClassifier(n_neighbors=k, metric=metric, weights=weights)\n",
        "\n",
        "    # Perform cross-validation to get accuracy\n",
        "    score = cross_val_score(knn_model, X_train, y_train, cv=5, scoring='accuracy').mean()\n",
        "\n",
        "    return score  # Return the mean cross-validation accuracy"
      ],
      "metadata": {
        "id": "lv5AK_wjiamz"
      },
      "execution_count": 19,
      "outputs": []
    },
    {
      "cell_type": "code",
      "source": [
        "study_knn = optuna.create_study(direction='maximize')  # Maximize accuracy\n",
        "study_knn.optimize(objective, n_trials=50)  # Run 50 trials\n",
        "\n",
        "# Get the best parameters\n",
        "best_knn_params = study_knn.best_params\n",
        "print(\"Best KNN hyperparameters:\", best_knn_params)"
      ],
      "metadata": {
        "colab": {
          "base_uri": "https://localhost:8080/"
        },
        "id": "whSJfi1oV0vl",
        "outputId": "44a70610-f59d-4c6a-e7a2-cef8ef1ea769"
      },
      "execution_count": 20,
      "outputs": [
        {
          "output_type": "stream",
          "name": "stderr",
          "text": [
            "[I 2025-07-19 10:42:44,823] A new study created in memory with name: no-name-18540066-b805-4537-b3bd-5033c3f2ef66\n",
            "[I 2025-07-19 10:42:45,785] Trial 0 finished with value: 0.7846813835016535 and parameters: {'n_neighbors': 14, 'metric': 'minkowski', 'weights': 'distance'}. Best is trial 0 with value: 0.7846813835016535.\n",
            "[I 2025-07-19 10:42:54,096] Trial 1 finished with value: 0.7619715792296005 and parameters: {'n_neighbors': 6, 'metric': 'manhattan', 'weights': 'uniform'}. Best is trial 0 with value: 0.7846813835016535.\n",
            "[I 2025-07-19 10:43:01,794] Trial 2 finished with value: 0.7721297703101261 and parameters: {'n_neighbors': 12, 'metric': 'manhattan', 'weights': 'distance'}. Best is trial 0 with value: 0.7846813835016535.\n",
            "[I 2025-07-19 10:43:09,832] Trial 3 finished with value: 0.7589811421932255 and parameters: {'n_neighbors': 9, 'metric': 'manhattan', 'weights': 'uniform'}. Best is trial 0 with value: 0.7846813835016535.\n",
            "[I 2025-07-19 10:43:10,503] Trial 4 finished with value: 0.7709321655197069 and parameters: {'n_neighbors': 15, 'metric': 'minkowski', 'weights': 'uniform'}. Best is trial 0 with value: 0.7846813835016535.\n",
            "[I 2025-07-19 10:43:16,415] Trial 5 finished with value: 0.7577871123424792 and parameters: {'n_neighbors': 11, 'metric': 'manhattan', 'weights': 'uniform'}. Best is trial 0 with value: 0.7846813835016535.\n",
            "[I 2025-07-19 10:43:22,200] Trial 6 finished with value: 0.7703351505943337 and parameters: {'n_neighbors': 14, 'metric': 'manhattan', 'weights': 'distance'}. Best is trial 0 with value: 0.7846813835016535.\n",
            "[I 2025-07-19 10:43:27,756] Trial 7 finished with value: 0.7799142014478505 and parameters: {'n_neighbors': 9, 'metric': 'manhattan', 'weights': 'distance'}. Best is trial 0 with value: 0.7846813835016535.\n",
            "[I 2025-07-19 10:43:33,649] Trial 8 finished with value: 0.7589865046027346 and parameters: {'n_neighbors': 13, 'metric': 'manhattan', 'weights': 'uniform'}. Best is trial 0 with value: 0.7846813835016535.\n",
            "[I 2025-07-19 10:43:39,508] Trial 9 finished with value: 0.7703333631244972 and parameters: {'n_neighbors': 15, 'metric': 'manhattan', 'weights': 'distance'}. Best is trial 0 with value: 0.7846813835016535.\n",
            "[I 2025-07-19 10:43:40,392] Trial 10 finished with value: 0.7924533023505228 and parameters: {'n_neighbors': 4, 'metric': 'minkowski', 'weights': 'distance'}. Best is trial 10 with value: 0.7924533023505228.\n",
            "[I 2025-07-19 10:43:41,659] Trial 11 finished with value: 0.7942532844758243 and parameters: {'n_neighbors': 3, 'metric': 'minkowski', 'weights': 'distance'}. Best is trial 11 with value: 0.7942532844758243.\n",
            "[I 2025-07-19 10:43:42,616] Trial 12 finished with value: 0.7942532844758243 and parameters: {'n_neighbors': 3, 'metric': 'minkowski', 'weights': 'distance'}. Best is trial 11 with value: 0.7942532844758243.\n",
            "[I 2025-07-19 10:43:43,198] Trial 13 finished with value: 0.7942532844758243 and parameters: {'n_neighbors': 3, 'metric': 'euclidean', 'weights': 'distance'}. Best is trial 11 with value: 0.7942532844758243.\n",
            "[I 2025-07-19 10:43:43,759] Trial 14 finished with value: 0.794247922066315 and parameters: {'n_neighbors': 6, 'metric': 'minkowski', 'weights': 'distance'}. Best is trial 11 with value: 0.7942532844758243.\n",
            "[I 2025-07-19 10:43:44,333] Trial 15 finished with value: 0.7936526946107785 and parameters: {'n_neighbors': 5, 'metric': 'minkowski', 'weights': 'distance'}. Best is trial 11 with value: 0.7942532844758243.\n",
            "[I 2025-07-19 10:43:44,903] Trial 16 finished with value: 0.7924604522298687 and parameters: {'n_neighbors': 7, 'metric': 'euclidean', 'weights': 'distance'}. Best is trial 11 with value: 0.7942532844758243.\n",
            "[I 2025-07-19 10:43:45,489] Trial 17 finished with value: 0.7942532844758243 and parameters: {'n_neighbors': 3, 'metric': 'minkowski', 'weights': 'distance'}. Best is trial 11 with value: 0.7942532844758243.\n",
            "[I 2025-07-19 10:43:46,037] Trial 18 finished with value: 0.7924604522298687 and parameters: {'n_neighbors': 7, 'metric': 'minkowski', 'weights': 'distance'}. Best is trial 11 with value: 0.7942532844758243.\n",
            "[I 2025-07-19 10:43:46,619] Trial 19 finished with value: 0.7924533023505228 and parameters: {'n_neighbors': 4, 'metric': 'minkowski', 'weights': 'distance'}. Best is trial 11 with value: 0.7942532844758243.\n",
            "[I 2025-07-19 10:43:47,250] Trial 20 finished with value: 0.7912628474394495 and parameters: {'n_neighbors': 8, 'metric': 'euclidean', 'weights': 'distance'}. Best is trial 11 with value: 0.7942532844758243.\n",
            "[I 2025-07-19 10:43:47,872] Trial 21 finished with value: 0.7942532844758243 and parameters: {'n_neighbors': 3, 'metric': 'euclidean', 'weights': 'distance'}. Best is trial 11 with value: 0.7942532844758243.\n",
            "[I 2025-07-19 10:43:48,453] Trial 22 finished with value: 0.7942532844758243 and parameters: {'n_neighbors': 3, 'metric': 'euclidean', 'weights': 'distance'}. Best is trial 11 with value: 0.7942532844758243.\n",
            "[I 2025-07-19 10:43:49,081] Trial 23 finished with value: 0.7936526946107785 and parameters: {'n_neighbors': 5, 'metric': 'euclidean', 'weights': 'distance'}. Best is trial 11 with value: 0.7942532844758243.\n",
            "[I 2025-07-19 10:43:49,724] Trial 24 finished with value: 0.7924533023505228 and parameters: {'n_neighbors': 4, 'metric': 'euclidean', 'weights': 'distance'}. Best is trial 11 with value: 0.7942532844758243.\n",
            "[I 2025-07-19 10:43:50,360] Trial 25 finished with value: 0.7936526946107785 and parameters: {'n_neighbors': 5, 'metric': 'minkowski', 'weights': 'distance'}. Best is trial 11 with value: 0.7942532844758243.\n",
            "[I 2025-07-19 10:43:51,016] Trial 26 finished with value: 0.7775082670479935 and parameters: {'n_neighbors': 3, 'metric': 'minkowski', 'weights': 'uniform'}. Best is trial 11 with value: 0.7942532844758243.\n",
            "[I 2025-07-19 10:43:51,591] Trial 27 finished with value: 0.7924533023505228 and parameters: {'n_neighbors': 4, 'metric': 'euclidean', 'weights': 'distance'}. Best is trial 11 with value: 0.7942532844758243.\n",
            "[I 2025-07-19 10:43:52,202] Trial 28 finished with value: 0.794247922066315 and parameters: {'n_neighbors': 6, 'metric': 'minkowski', 'weights': 'distance'}. Best is trial 11 with value: 0.7942532844758243.\n",
            "[I 2025-07-19 10:43:53,273] Trial 29 finished with value: 0.7936526946107785 and parameters: {'n_neighbors': 5, 'metric': 'minkowski', 'weights': 'distance'}. Best is trial 11 with value: 0.7942532844758243.\n",
            "[I 2025-07-19 10:43:54,524] Trial 30 finished with value: 0.7864831530967915 and parameters: {'n_neighbors': 10, 'metric': 'euclidean', 'weights': 'distance'}. Best is trial 11 with value: 0.7942532844758243.\n",
            "[I 2025-07-19 10:43:55,464] Trial 31 finished with value: 0.7942532844758243 and parameters: {'n_neighbors': 3, 'metric': 'minkowski', 'weights': 'distance'}. Best is trial 11 with value: 0.7942532844758243.\n",
            "[I 2025-07-19 10:43:56,094] Trial 32 finished with value: 0.7942532844758243 and parameters: {'n_neighbors': 3, 'metric': 'minkowski', 'weights': 'distance'}. Best is trial 11 with value: 0.7942532844758243.\n",
            "[I 2025-07-19 10:43:56,745] Trial 33 finished with value: 0.7924533023505228 and parameters: {'n_neighbors': 4, 'metric': 'minkowski', 'weights': 'distance'}. Best is trial 11 with value: 0.7942532844758243.\n",
            "[I 2025-07-19 10:43:57,423] Trial 34 finished with value: 0.7775082670479935 and parameters: {'n_neighbors': 3, 'metric': 'minkowski', 'weights': 'uniform'}. Best is trial 11 with value: 0.7942532844758243.\n",
            "[I 2025-07-19 10:43:58,029] Trial 35 finished with value: 0.7936526946107785 and parameters: {'n_neighbors': 5, 'metric': 'minkowski', 'weights': 'distance'}. Best is trial 11 with value: 0.7942532844758243.\n",
            "[I 2025-07-19 10:43:58,658] Trial 36 finished with value: 0.7781160067923854 and parameters: {'n_neighbors': 7, 'metric': 'minkowski', 'weights': 'uniform'}. Best is trial 11 with value: 0.7942532844758243.\n",
            "[I 2025-07-19 10:43:59,239] Trial 37 finished with value: 0.7924533023505228 and parameters: {'n_neighbors': 4, 'metric': 'minkowski', 'weights': 'distance'}. Best is trial 11 with value: 0.7942532844758243.\n",
            "[I 2025-07-19 10:43:59,823] Trial 38 finished with value: 0.7942532844758243 and parameters: {'n_neighbors': 3, 'metric': 'euclidean', 'weights': 'distance'}. Best is trial 11 with value: 0.7942532844758243.\n",
            "[I 2025-07-19 10:44:00,443] Trial 39 finished with value: 0.7757136473322014 and parameters: {'n_neighbors': 6, 'metric': 'minkowski', 'weights': 'uniform'}. Best is trial 11 with value: 0.7942532844758243.\n",
            "[I 2025-07-19 10:44:07,486] Trial 40 finished with value: 0.7721297703101261 and parameters: {'n_neighbors': 12, 'metric': 'manhattan', 'weights': 'distance'}. Best is trial 11 with value: 0.7942532844758243.\n",
            "[I 2025-07-19 10:44:08,167] Trial 41 finished with value: 0.7942532844758243 and parameters: {'n_neighbors': 3, 'metric': 'euclidean', 'weights': 'distance'}. Best is trial 11 with value: 0.7942532844758243.\n",
            "[I 2025-07-19 10:44:08,800] Trial 42 finished with value: 0.7924533023505228 and parameters: {'n_neighbors': 4, 'metric': 'euclidean', 'weights': 'distance'}. Best is trial 11 with value: 0.7942532844758243.\n",
            "[I 2025-07-19 10:44:09,435] Trial 43 finished with value: 0.7942532844758243 and parameters: {'n_neighbors': 3, 'metric': 'euclidean', 'weights': 'distance'}. Best is trial 11 with value: 0.7942532844758243.\n",
            "[I 2025-07-19 10:44:10,050] Trial 44 finished with value: 0.7924533023505228 and parameters: {'n_neighbors': 4, 'metric': 'euclidean', 'weights': 'distance'}. Best is trial 11 with value: 0.7942532844758243.\n",
            "[I 2025-07-19 10:44:15,738] Trial 45 finished with value: 0.7799088390383412 and parameters: {'n_neighbors': 5, 'metric': 'manhattan', 'weights': 'distance'}. Best is trial 11 with value: 0.7942532844758243.\n",
            "[I 2025-07-19 10:44:16,330] Trial 46 finished with value: 0.7942532844758243 and parameters: {'n_neighbors': 3, 'metric': 'euclidean', 'weights': 'distance'}. Best is trial 11 with value: 0.7942532844758243.\n",
            "[I 2025-07-19 10:44:17,030] Trial 47 finished with value: 0.7727392975243543 and parameters: {'n_neighbors': 10, 'metric': 'minkowski', 'weights': 'uniform'}. Best is trial 11 with value: 0.7942532844758243.\n",
            "[I 2025-07-19 10:44:17,679] Trial 48 finished with value: 0.7924533023505228 and parameters: {'n_neighbors': 4, 'metric': 'euclidean', 'weights': 'distance'}. Best is trial 11 with value: 0.7942532844758243.\n",
            "[I 2025-07-19 10:44:18,802] Trial 49 finished with value: 0.794247922066315 and parameters: {'n_neighbors': 6, 'metric': 'minkowski', 'weights': 'distance'}. Best is trial 11 with value: 0.7942532844758243.\n"
          ]
        },
        {
          "output_type": "stream",
          "name": "stdout",
          "text": [
            "Best KNN hyperparameters: {'n_neighbors': 3, 'metric': 'minkowski', 'weights': 'distance'}\n"
          ]
        }
      ]
    },
    {
      "cell_type": "code",
      "source": [
        "# Extract best values\n",
        "best_k = best_knn_params['n_neighbors']\n",
        "best_metric = best_knn_params['metric']\n",
        "best_weights = best_knn_params['weights']\n",
        "\n",
        "def knn(X_train, y_train, X_test, k=best_k, metric=best_metric, weights=best_weights):\n",
        "    \"\"\"Optimized KNN model.\"\"\"\n",
        "\n",
        "    # Convert labels to NumPy array (avoid indexing issues)\n",
        "    y_train = np.array(y_train)\n",
        "\n",
        "    # Fit KNN classifier with optimized parameters\n",
        "    knn_model = KNeighborsClassifier(n_neighbors=k, metric=metric, weights=weights)\n",
        "    knn_model.fit(X_train, y_train)\n",
        "\n",
        "    # Predict on test set\n",
        "    predictions = knn_model.predict(X_test)\n",
        "\n",
        "    return predictions\n"
      ],
      "metadata": {
        "id": "c0hY__1DV0x6"
      },
      "execution_count": 21,
      "outputs": []
    },
    {
      "cell_type": "code",
      "execution_count": 22,
      "metadata": {
        "id": "5e3ed9be"
      },
      "outputs": [],
      "source": [
        "\n",
        "\n",
        "# Run KNN with optimized parameters\n",
        "knn_preds = knn(X_train_features, y_train, X_test_features)\n"
      ]
    },
    {
      "cell_type": "code",
      "execution_count": 23,
      "metadata": {
        "id": "7502eed8"
      },
      "outputs": [],
      "source": [
        "X_train_combined = np.hstack((X_train_features, y_train.reshape(-1, 1)))\n",
        "X_test_combined = np.hstack((X_test_features, knn_preds.reshape(-1, 1)))"
      ]
    },
    {
      "cell_type": "code",
      "source": [
        "import optuna\n",
        "from tensorflow.keras.models import Sequential\n",
        "from tensorflow.keras.layers import Dense, Dropout, BatchNormalization\n",
        "from tensorflow.keras.optimizers import Adam\n",
        "\n",
        "feature_dim = X_train_combined.shape[1]  # Assuming X_train is your feature matrix\n",
        "\n",
        "\n",
        "def objective(trial):\n",
        "    \"\"\"Objective function for optimizing neural network hyperparameters.\"\"\"\n",
        "\n",
        "    # Hyperparameters to optimize\n",
        "    num_units_1 = trial.suggest_int('num_units_1', 128, 512, step=64)  # First Dense layer\n",
        "    num_units_2 = trial.suggest_int('num_units_2', 64, 256, step=64)   # Second Dense layer\n",
        "    num_units_3 = trial.suggest_int('num_units_3', 32, 128, step=32)   # Third Dense layer\n",
        "    dropout_1 = trial.suggest_float('dropout_1', 0.2, 0.5)  # Dropout after first layer\n",
        "    dropout_2 = trial.suggest_float('dropout_2', 0.2, 0.5)  # Dropout after second layer\n",
        "    learning_rate = trial.suggest_loguniform('learning_rate', 0.0001, 0.001)  # Adam learning rate\n",
        "\n",
        "    # Build model\n",
        "    model = Sequential([\n",
        "        Dense(num_units_1, activation='selu', input_shape=(feature_dim,)),\n",
        "        BatchNormalization(),\n",
        "        Dropout(dropout_1),\n",
        "        Dense(num_units_2, activation='selu'),\n",
        "        BatchNormalization(),\n",
        "        Dropout(dropout_2),\n",
        "        Dense(num_units_3, activation='selu'),\n",
        "        BatchNormalization(),\n",
        "        Dense(10, activation='softmax')\n",
        "    ])\n",
        "\n",
        "    # Compile model with tuned learning rate\n",
        "    model.compile(optimizer=Adam(learning_rate=learning_rate),\n",
        "                  loss='sparse_categorical_crossentropy',\n",
        "                  metrics=['accuracy'])\n",
        "\n",
        "    # Train model (Use fewer epochs for tuning)\n",
        "    history = model.fit(\n",
        "        X_train_combined, y_train,\n",
        "        epochs=10,  # Keep epochs low for tuning\n",
        "        batch_size=64,\n",
        "        validation_split=0.2,\n",
        "        verbose=0\n",
        "    )\n",
        "\n",
        "    # Return best validation accuracy\n",
        "    return max(history.history['val_accuracy'])\n"
      ],
      "metadata": {
        "id": "IDTsEzYyUVA_"
      },
      "execution_count": 24,
      "outputs": []
    },
    {
      "cell_type": "code",
      "execution_count": 25,
      "metadata": {
        "id": "e4631237",
        "colab": {
          "base_uri": "https://localhost:8080/"
        },
        "outputId": "78de11fd-f3a6-4e04-8d67-b5714e067f2b"
      },
      "outputs": [
        {
          "output_type": "stream",
          "name": "stderr",
          "text": [
            "[I 2025-07-19 10:44:19,017] A new study created in memory with name: no-name-4bd8f9fa-e602-4e80-90f8-6bd036af47c2\n",
            "/tmp/ipython-input-24-3243621785.py:18: FutureWarning: suggest_loguniform has been deprecated in v3.0.0. This feature will be removed in v6.0.0. See https://github.com/optuna/optuna/releases/tag/v3.0.0. Use suggest_float(..., log=True) instead.\n",
            "  learning_rate = trial.suggest_loguniform('learning_rate', 0.0001, 0.001)  # Adam learning rate\n",
            "/usr/local/lib/python3.11/dist-packages/keras/src/layers/core/dense.py:87: UserWarning: Do not pass an `input_shape`/`input_dim` argument to a layer. When using Sequential models, prefer using an `Input(shape)` object as the first layer in the model instead.\n",
            "  super().__init__(activity_regularizer=activity_regularizer, **kwargs)\n",
            "[I 2025-07-19 10:44:24,844] Trial 0 finished with value: 0.8507462739944458 and parameters: {'num_units_1': 512, 'num_units_2': 192, 'num_units_3': 64, 'dropout_1': 0.3001864029637515, 'dropout_2': 0.4762140236359782, 'learning_rate': 0.00015448495838344317}. Best is trial 0 with value: 0.8507462739944458.\n",
            "[I 2025-07-19 10:44:29,851] Trial 1 finished with value: 0.8507462739944458 and parameters: {'num_units_1': 256, 'num_units_2': 128, 'num_units_3': 32, 'dropout_1': 0.3331463061266171, 'dropout_2': 0.3225394854085014, 'learning_rate': 0.0002929803271241693}. Best is trial 0 with value: 0.8507462739944458.\n",
            "[I 2025-07-19 10:44:35,565] Trial 2 finished with value: 0.8268656730651855 and parameters: {'num_units_1': 320, 'num_units_2': 128, 'num_units_3': 64, 'dropout_1': 0.2891324005481343, 'dropout_2': 0.48399916091353296, 'learning_rate': 0.0001723319975768541}. Best is trial 0 with value: 0.8507462739944458.\n",
            "[I 2025-07-19 10:44:40,319] Trial 3 finished with value: 0.8447760939598083 and parameters: {'num_units_1': 384, 'num_units_2': 64, 'num_units_3': 32, 'dropout_1': 0.45873829802452115, 'dropout_2': 0.266976357924581, 'learning_rate': 0.0005508894694066721}. Best is trial 0 with value: 0.8507462739944458.\n",
            "[I 2025-07-19 10:44:46,213] Trial 4 finished with value: 0.874626874923706 and parameters: {'num_units_1': 384, 'num_units_2': 128, 'num_units_3': 64, 'dropout_1': 0.3182822701427349, 'dropout_2': 0.39244297429839403, 'learning_rate': 0.0008050689691449271}. Best is trial 4 with value: 0.874626874923706.\n",
            "[I 2025-07-19 10:44:51,235] Trial 5 finished with value: 0.8328357934951782 and parameters: {'num_units_1': 128, 'num_units_2': 128, 'num_units_3': 96, 'dropout_1': 0.3955666605731727, 'dropout_2': 0.4966846468892352, 'learning_rate': 0.0002851926558888655}. Best is trial 4 with value: 0.874626874923706.\n",
            "[I 2025-07-19 10:44:57,320] Trial 6 finished with value: 0.841791033744812 and parameters: {'num_units_1': 320, 'num_units_2': 256, 'num_units_3': 64, 'dropout_1': 0.42754673872494464, 'dropout_2': 0.3202035919425867, 'learning_rate': 0.00019185193293425423}. Best is trial 4 with value: 0.874626874923706.\n",
            "[I 2025-07-19 10:45:02,570] Trial 7 finished with value: 0.8507462739944458 and parameters: {'num_units_1': 448, 'num_units_2': 128, 'num_units_3': 32, 'dropout_1': 0.37255697473030247, 'dropout_2': 0.4210960114789153, 'learning_rate': 0.0006653169027606776}. Best is trial 4 with value: 0.874626874923706.\n",
            "[I 2025-07-19 10:45:09,033] Trial 8 finished with value: 0.8686566948890686 and parameters: {'num_units_1': 192, 'num_units_2': 256, 'num_units_3': 64, 'dropout_1': 0.317141748237887, 'dropout_2': 0.40244781746152747, 'learning_rate': 0.0006882642590867045}. Best is trial 4 with value: 0.874626874923706.\n",
            "[I 2025-07-19 10:45:15,027] Trial 9 finished with value: 0.8328357934951782 and parameters: {'num_units_1': 448, 'num_units_2': 192, 'num_units_3': 32, 'dropout_1': 0.4349450427514257, 'dropout_2': 0.421178375812023, 'learning_rate': 0.00029429264689846696}. Best is trial 4 with value: 0.874626874923706.\n",
            "[I 2025-07-19 10:45:21,024] Trial 10 finished with value: 0.8626865744590759 and parameters: {'num_units_1': 512, 'num_units_2': 64, 'num_units_3': 128, 'dropout_1': 0.21632524543393142, 'dropout_2': 0.20638827446965444, 'learning_rate': 0.0009855419112101205}. Best is trial 4 with value: 0.874626874923706.\n",
            "[I 2025-07-19 10:45:25,718] Trial 11 finished with value: 0.8537313342094421 and parameters: {'num_units_1': 192, 'num_units_2': 256, 'num_units_3': 96, 'dropout_1': 0.24317400409173323, 'dropout_2': 0.4027679451673102, 'learning_rate': 0.0005641326371121009}. Best is trial 4 with value: 0.874626874923706.\n",
            "[I 2025-07-19 10:45:30,745] Trial 12 finished with value: 0.8537313342094421 and parameters: {'num_units_1': 128, 'num_units_2': 192, 'num_units_3': 96, 'dropout_1': 0.33031754612690467, 'dropout_2': 0.37453595380616983, 'learning_rate': 0.00094653007108874}. Best is trial 4 with value: 0.874626874923706.\n",
            "[I 2025-07-19 10:45:36,074] Trial 13 finished with value: 0.8089552521705627 and parameters: {'num_units_1': 256, 'num_units_2': 256, 'num_units_3': 64, 'dropout_1': 0.27135588061780835, 'dropout_2': 0.3550763921646841, 'learning_rate': 0.0001018054713149778}. Best is trial 4 with value: 0.874626874923706.\n",
            "[I 2025-07-19 10:45:40,902] Trial 14 finished with value: 0.841791033744812 and parameters: {'num_units_1': 256, 'num_units_2': 192, 'num_units_3': 64, 'dropout_1': 0.49484790156699576, 'dropout_2': 0.450596423110217, 'learning_rate': 0.0004163386008855943}. Best is trial 4 with value: 0.874626874923706.\n",
            "[I 2025-07-19 10:45:47,325] Trial 15 finished with value: 0.8567163944244385 and parameters: {'num_units_1': 384, 'num_units_2': 64, 'num_units_3': 128, 'dropout_1': 0.35960096380184636, 'dropout_2': 0.3734495168474544, 'learning_rate': 0.0006818115754783261}. Best is trial 4 with value: 0.874626874923706.\n",
            "[I 2025-07-19 10:45:52,522] Trial 16 finished with value: 0.8507462739944458 and parameters: {'num_units_1': 192, 'num_units_2': 256, 'num_units_3': 96, 'dropout_1': 0.3129623829077258, 'dropout_2': 0.31326425261816837, 'learning_rate': 0.00042870258527237515}. Best is trial 4 with value: 0.874626874923706.\n",
            "[I 2025-07-19 10:45:58,186] Trial 17 finished with value: 0.8567163944244385 and parameters: {'num_units_1': 384, 'num_units_2': 192, 'num_units_3': 64, 'dropout_1': 0.23768833967941183, 'dropout_2': 0.39933124097159745, 'learning_rate': 0.0007342940997009392}. Best is trial 4 with value: 0.874626874923706.\n",
            "[I 2025-07-19 10:46:03,400] Trial 18 finished with value: 0.8507462739944458 and parameters: {'num_units_1': 192, 'num_units_2': 128, 'num_units_3': 96, 'dropout_1': 0.38321670929502505, 'dropout_2': 0.45422189489582093, 'learning_rate': 0.0004010998087343298}. Best is trial 4 with value: 0.874626874923706.\n",
            "[I 2025-07-19 10:46:09,455] Trial 19 finished with value: 0.8477612137794495 and parameters: {'num_units_1': 448, 'num_units_2': 64, 'num_units_3': 32, 'dropout_1': 0.2731845659238488, 'dropout_2': 0.27679218730653893, 'learning_rate': 0.0007857595259283429}. Best is trial 4 with value: 0.874626874923706.\n"
          ]
        },
        {
          "output_type": "stream",
          "name": "stdout",
          "text": [
            "Best hyperparameters: {'num_units_1': 384, 'num_units_2': 128, 'num_units_3': 64, 'dropout_1': 0.3182822701427349, 'dropout_2': 0.39244297429839403, 'learning_rate': 0.0008050689691449271}\n"
          ]
        }
      ],
      "source": [
        "study = optuna.create_study(direction='maximize')  # Maximize accuracy\n",
        "study.optimize(objective, n_trials=20)  # Run 20 trials\n",
        "\n",
        "# Get the best parameters\n",
        "best_params = study.best_params\n",
        "print(\"Best hyperparameters:\", best_params)"
      ]
    },
    {
      "cell_type": "code",
      "source": [
        "# Unpack Optuna best parameters\n",
        "num_units_1 = best_params['num_units_1']\n",
        "num_units_2 = best_params['num_units_2']\n",
        "num_units_3 = best_params['num_units_3']\n",
        "dropout_1 = best_params['dropout_1']\n",
        "dropout_2 = best_params['dropout_2']\n",
        "learning_rate = best_params['learning_rate']\n",
        "\n",
        "\n",
        "import numpy as np\n",
        "from sklearn.metrics import accuracy_score\n",
        "from statsmodels.stats.contingency_tables import mcnemar\n",
        "\n",
        "# ====================== EfficientNet-B0 ============================\n",
        "# Load predictions if previously saved\n",
        "efficientnet_preds = np.load(\"/content/drive/My Drive/test_predictions.npy\")\n",
        "\n",
        "# ====================== FusionNet Predictions ======================\n",
        "# Rebuild final FusionNet model using best hyperparameters\n",
        "final_model = Sequential([\n",
        "    Dense(num_units_1, activation='selu', input_shape=(X_train_combined.shape[1],)),\n",
        "    BatchNormalization(),\n",
        "    Dropout(dropout_1),\n",
        "    Dense(num_units_2, activation='selu'),\n",
        "    BatchNormalization(),\n",
        "    Dropout(dropout_2),\n",
        "    Dense(num_units_3, activation='selu'),\n",
        "    BatchNormalization(),\n",
        "    Dense(10, activation='softmax')\n",
        "])\n",
        "\n",
        "final_model.compile(optimizer=Adam(learning_rate=learning_rate),\n",
        "                    loss='sparse_categorical_crossentropy', metrics=['accuracy'])\n",
        "\n",
        "# Train on full training data\n",
        "final_model.fit(X_train_combined, y_train, epochs=20, batch_size=64, verbose=0)\n",
        "\n",
        "# Predict on test set\n",
        "fusionnet_preds_proba = final_model.predict(X_test_combined)\n",
        "fusionnet_preds = np.argmax(fusionnet_preds_proba, axis=1)\n",
        "\n",
        "\n",
        "\n",
        "test_df['label'] = test_df['label'].astype(str)\n",
        "\n",
        "true_labels = test_generator.labels  # Already aligned\n",
        "# ====================== Contingency Table ======================\n",
        "fusionnet_correct = fusionnet_preds == true_labels\n",
        "efficientnet_correct = efficientnet_preds == true_labels\n",
        "\n",
        "B = np.sum((fusionnet_correct == True) & (efficientnet_correct == False))  # FusionNet correct, EfficientNet wrong\n",
        "C = np.sum((fusionnet_correct == False) & (efficientnet_correct == True))  # EfficientNet correct, FusionNet wrong\n",
        "\n",
        "# Create table\n",
        "table = [[0, B],\n",
        "         [C, 0]]\n",
        "\n",
        "# Run McNemar's Test\n",
        "result = mcnemar(table, exact=False, correction=True)\n",
        "\n",
        "# ====================== Output ======================\n",
        "print(\"\\n========= McNemar’s Test Result =========\")\n",
        "print(f\"Contingency Table: [[0, {B}], [{C}, 0]]\")\n",
        "print(f\"McNemar's Test Statistic: {result.statistic:.4f}\")\n",
        "print(f\"P-value:  {result.pvalue:.4f}\")\n",
        "\n",
        "if result.pvalue > 0.05:\n",
        "    print(\" No statistically significant difference between FusionNet and EfficientNet-B0.\")\n",
        "else:\n",
        "    print(\" Statistically significant difference between the two models.\")\n",
        "\n"
      ],
      "metadata": {
        "colab": {
          "base_uri": "https://localhost:8080/"
        },
        "id": "DB7EgQnxVa6w",
        "outputId": "10ec0cbc-c227-41ca-b3d1-66eb5de7fe05"
      },
      "execution_count": 27,
      "outputs": [
        {
          "output_type": "stream",
          "name": "stderr",
          "text": [
            "/usr/local/lib/python3.11/dist-packages/keras/src/layers/core/dense.py:87: UserWarning: Do not pass an `input_shape`/`input_dim` argument to a layer. When using Sequential models, prefer using an `Input(shape)` object as the first layer in the model instead.\n",
            "  super().__init__(activity_regularizer=activity_regularizer, **kwargs)\n"
          ]
        },
        {
          "output_type": "stream",
          "name": "stdout",
          "text": [
            "\u001b[1m14/14\u001b[0m \u001b[32m━━━━━━━━━━━━━━━━━━━━\u001b[0m\u001b[37m\u001b[0m \u001b[1m0s\u001b[0m 8ms/step\n",
            "\n",
            "========= McNemar’s Test Result =========\n",
            "Contingency Table: [[0, 39], [19, 0]]\n",
            "McNemar's Test Statistic: 6.2241\n",
            "P-value:  0.0126\n",
            " Statistically significant difference between the two models.\n"
          ]
        }
      ]
    }
  ],
  "metadata": {
    "colab": {
      "provenance": [],
      "include_colab_link": true
    },
    "kernelspec": {
      "display_name": "Python 3",
      "name": "python3"
    },
    "language_info": {
      "name": "python"
    }
  },
  "nbformat": 4,
  "nbformat_minor": 0
}